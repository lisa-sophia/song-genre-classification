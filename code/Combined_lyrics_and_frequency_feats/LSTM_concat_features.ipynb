{
 "cells": [
  {
   "cell_type": "code",
   "execution_count": 24,
   "metadata": {
    "colab": {
     "base_uri": "https://localhost:8080/"
    },
    "executionInfo": {
     "elapsed": 17300,
     "status": "ok",
     "timestamp": 1645532044623,
     "user": {
      "displayName": "Lisa Spahn Lundgren",
      "photoUrl": "https://lh3.googleusercontent.com/a/default-user=s64",
      "userId": "13266833213640265739"
     },
     "user_tz": -60
    },
    "id": "VXak8PjjRAQW",
    "outputId": "66554787-38d7-4d5e-f838-a12226fd84fe"
   },
   "outputs": [],
   "source": [
    "import pandas as pd\n",
    "import numpy as np\n",
    "import string\n",
    "import matplotlib.pyplot as plt\n",
    "import seaborn as sns\n",
    "import os\n",
    "import tensorflow as tf\n",
    "from tensorflow.keras import preprocessing as kprocessing\n",
    "from tensorflow.keras import models, layers, optimizers\n",
    "from ast import literal_eval\n",
    "from gensim.models import KeyedVectors\n",
    "from sklearn.pipeline import Pipeline\n",
    "from sklearn.feature_extraction.text import TfidfVectorizer, CountVectorizer\n",
    "from sklearn.naive_bayes import MultinomialNB, GaussianNB\n",
    "from sklearn.ensemble import RandomForestClassifier\n",
    "from sklearn.svm import SVC\n",
    "from xgboost import XGBClassifier\n",
    "from sklearn.metrics import classification_report, accuracy_score, f1_score, recall_score, precision_score\n",
    "from sklearn.model_selection import GridSearchCV\n",
    "from sklearn.preprocessing import LabelEncoder, MinMaxScaler, StandardScaler\n",
    "from sklearn.metrics import confusion_matrix, ConfusionMatrixDisplay\n",
    "from datetime import datetime"
   ]
  },
  {
   "cell_type": "markdown",
   "metadata": {},
   "source": [
    "The RNN training parts of this notebook are based on the following:\n",
    "\n",
    "https://medium.com/@claude.feldges/text-classification-with-tf-idf-lstm-bert-a-quantitative-comparison-b8409b556cb3"
   ]
  },
  {
   "cell_type": "code",
   "execution_count": 25,
   "metadata": {},
   "outputs": [],
   "source": [
    "### functions\n",
    "\n",
    "sns.set(font_scale=1.1)\n",
    "\n",
    "RANDOM_STATE = 12345\n",
    "\n",
    "def evaluate_classifier(y_test, pred, labels=None):\n",
    "\n",
    "    fig, ax = plt.subplots(figsize=(8,6))\n",
    "    # normalize : {'true', 'pred', 'all'}, default=None\n",
    "    # Normalizes confusion matrix over the true (rows), predicted (columns) conditions or all the population. \n",
    "    # If None, confusion matrix will not be normalized.\n",
    "    cm = confusion_matrix(y_test, pred, normalize=None) \n",
    "    disp = ConfusionMatrixDisplay(confusion_matrix=cm, display_labels=labels)\n",
    "    disp.plot(ax=ax)\n",
    "    plt.grid(False)\n",
    "    plt.show()\n",
    "    \n",
    "    print(\"Accuracy  = \" + str(accuracy_score(y_true=y_test, y_pred=pred)))\n",
    "    print(\"F1 score  = \" + str(f1_score(y_true=y_test, y_pred=pred, average='weighted')))\n",
    "    print(\"Precision = \" + str(precision_score(y_true=y_test, y_pred=pred, average='weighted')))\n",
    "    print(\"Recall    = \" + str(recall_score(y_true=y_test, y_pred=pred, average='weighted')))"
   ]
  },
  {
   "cell_type": "code",
   "execution_count": 26,
   "metadata": {
    "colab": {
     "base_uri": "https://localhost:8080/"
    },
    "executionInfo": {
     "elapsed": 36270,
     "status": "ok",
     "timestamp": 1645532377931,
     "user": {
      "displayName": "Lisa Spahn Lundgren",
      "photoUrl": "https://lh3.googleusercontent.com/a/default-user=s64",
      "userId": "13266833213640265739"
     },
     "user_tz": -60
    },
    "id": "AawEopyLSAmU",
    "outputId": "1a2cd245-6593-4af2-c426-4a11edac1a1d"
   },
   "outputs": [
    {
     "data": {
      "text/html": [
       "<div>\n",
       "<style scoped>\n",
       "    .dataframe tbody tr th:only-of-type {\n",
       "        vertical-align: middle;\n",
       "    }\n",
       "\n",
       "    .dataframe tbody tr th {\n",
       "        vertical-align: top;\n",
       "    }\n",
       "\n",
       "    .dataframe thead th {\n",
       "        text-align: right;\n",
       "    }\n",
       "</style>\n",
       "<table border=\"1\" class=\"dataframe\">\n",
       "  <thead>\n",
       "    <tr style=\"text-align: right;\">\n",
       "      <th></th>\n",
       "      <th>filename</th>\n",
       "      <th>artist</th>\n",
       "      <th>title</th>\n",
       "      <th>genre</th>\n",
       "      <th>lyrics</th>\n",
       "      <th>instrumental</th>\n",
       "      <th>tokenized</th>\n",
       "      <th>lemmatized</th>\n",
       "    </tr>\n",
       "  </thead>\n",
       "  <tbody>\n",
       "    <tr>\n",
       "      <th>0</th>\n",
       "      <td>country.00041.wav</td>\n",
       "      <td>Johnny Cash</td>\n",
       "      <td>Goin' By The Book</td>\n",
       "      <td>country</td>\n",
       "      <td>\\nYou can see it in the movies and the paper a...</td>\n",
       "      <td>False</td>\n",
       "      <td>['see', 'movies', 'paper', 'tv', 'news', 'some...</td>\n",
       "      <td>[see, movie, paper, tv, news, somebody, army, ...</td>\n",
       "    </tr>\n",
       "    <tr>\n",
       "      <th>1</th>\n",
       "      <td>reggae.00038.wav</td>\n",
       "      <td>Burning Spear</td>\n",
       "      <td>Investigation Dub</td>\n",
       "      <td>reggae</td>\n",
       "      <td>I and I old I know\\nI and I old I say\\nI and I...</td>\n",
       "      <td>False</td>\n",
       "      <td>['old', 'know', 'old', 'say', 'reconsider', 's...</td>\n",
       "      <td>[old, know, old, say, reconsider, see, upfully...</td>\n",
       "    </tr>\n",
       "    <tr>\n",
       "      <th>2</th>\n",
       "      <td>disco.00070.wav</td>\n",
       "      <td>KC and The Sunshine Band</td>\n",
       "      <td>That's The Way (I Like It)</td>\n",
       "      <td>disco</td>\n",
       "      <td>That's the way, aha, aha\\nI like it, aha, aha\\...</td>\n",
       "      <td>False</td>\n",
       "      <td>['thats', 'way', 'aha', 'aha', 'like', 'aha', ...</td>\n",
       "      <td>[thats, way, aha, aha, like, aha, aha, thats, ...</td>\n",
       "    </tr>\n",
       "    <tr>\n",
       "      <th>3</th>\n",
       "      <td>reggae.00088.wav</td>\n",
       "      <td>Marcia Griffiths</td>\n",
       "      <td>Electric Boogie</td>\n",
       "      <td>reggae</td>\n",
       "      <td>\\nIt's electric!\\n\\n\\nYou can't see it\\nIt's e...</td>\n",
       "      <td>False</td>\n",
       "      <td>['electric', 'cant', 'see', 'electric', 'got',...</td>\n",
       "      <td>[electric, cant, see, electric, get, ta, feel,...</td>\n",
       "    </tr>\n",
       "    <tr>\n",
       "      <th>4</th>\n",
       "      <td>pop.00017.wav</td>\n",
       "      <td>Britney Spears</td>\n",
       "      <td>(I Can't Get No) Satisfaction</td>\n",
       "      <td>pop</td>\n",
       "      <td>\\nI can't get no satisfaction\\nI can't get no ...</td>\n",
       "      <td>False</td>\n",
       "      <td>['cant', 'get', 'satisfaction', 'cant', 'get',...</td>\n",
       "      <td>[cant, get, satisfaction, cant, get, satisfact...</td>\n",
       "    </tr>\n",
       "  </tbody>\n",
       "</table>\n",
       "</div>"
      ],
      "text/plain": [
       "            filename                    artist                          title  \\\n",
       "0  country.00041.wav               Johnny Cash              Goin' By The Book   \n",
       "1   reggae.00038.wav             Burning Spear              Investigation Dub   \n",
       "2    disco.00070.wav  KC and The Sunshine Band     That's The Way (I Like It)   \n",
       "3   reggae.00088.wav          Marcia Griffiths                Electric Boogie   \n",
       "4      pop.00017.wav            Britney Spears  (I Can't Get No) Satisfaction   \n",
       "\n",
       "     genre                                             lyrics  instrumental  \\\n",
       "0  country  \\nYou can see it in the movies and the paper a...         False   \n",
       "1   reggae  I and I old I know\\nI and I old I say\\nI and I...         False   \n",
       "2    disco  That's the way, aha, aha\\nI like it, aha, aha\\...         False   \n",
       "3   reggae  \\nIt's electric!\\n\\n\\nYou can't see it\\nIt's e...         False   \n",
       "4      pop  \\nI can't get no satisfaction\\nI can't get no ...         False   \n",
       "\n",
       "                                           tokenized  \\\n",
       "0  ['see', 'movies', 'paper', 'tv', 'news', 'some...   \n",
       "1  ['old', 'know', 'old', 'say', 'reconsider', 's...   \n",
       "2  ['thats', 'way', 'aha', 'aha', 'like', 'aha', ...   \n",
       "3  ['electric', 'cant', 'see', 'electric', 'got',...   \n",
       "4  ['cant', 'get', 'satisfaction', 'cant', 'get',...   \n",
       "\n",
       "                                          lemmatized  \n",
       "0  [see, movie, paper, tv, news, somebody, army, ...  \n",
       "1  [old, know, old, say, reconsider, see, upfully...  \n",
       "2  [thats, way, aha, aha, like, aha, aha, thats, ...  \n",
       "3  [electric, cant, see, electric, get, ta, feel,...  \n",
       "4  [cant, get, satisfaction, cant, get, satisfact...  "
      ]
     },
     "execution_count": 26,
     "metadata": {},
     "output_type": "execute_result"
    }
   ],
   "source": [
    "df_train = pd.read_csv('../../data/train_data.csv')\n",
    "df_train['lemmatized'] = df_train['lemmatized'].apply(literal_eval)\n",
    "\n",
    "df_test = pd.read_csv('../../data/test_data.csv')\n",
    "df_test['lemmatized'] = df_test['lemmatized'].apply(literal_eval)\n",
    "\n",
    "df_train.head()"
   ]
  },
  {
   "cell_type": "code",
   "execution_count": 27,
   "metadata": {},
   "outputs": [
    {
     "data": {
      "text/html": [
       "<div>\n",
       "<style scoped>\n",
       "    .dataframe tbody tr th:only-of-type {\n",
       "        vertical-align: middle;\n",
       "    }\n",
       "\n",
       "    .dataframe tbody tr th {\n",
       "        vertical-align: top;\n",
       "    }\n",
       "\n",
       "    .dataframe thead th {\n",
       "        text-align: right;\n",
       "    }\n",
       "</style>\n",
       "<table border=\"1\" class=\"dataframe\">\n",
       "  <thead>\n",
       "    <tr style=\"text-align: right;\">\n",
       "      <th></th>\n",
       "      <th>filename</th>\n",
       "      <th>chroma_stft_mean</th>\n",
       "      <th>chroma_stft_var</th>\n",
       "      <th>rms_mean</th>\n",
       "      <th>rms_var</th>\n",
       "      <th>spectral_centroid_mean</th>\n",
       "      <th>spectral_centroid_var</th>\n",
       "      <th>spectral_bandwidth_mean</th>\n",
       "      <th>spectral_bandwidth_var</th>\n",
       "      <th>rolloff_mean</th>\n",
       "      <th>...</th>\n",
       "      <th>mfcc16_mean</th>\n",
       "      <th>mfcc16_var</th>\n",
       "      <th>mfcc17_mean</th>\n",
       "      <th>mfcc17_var</th>\n",
       "      <th>mfcc18_mean</th>\n",
       "      <th>mfcc18_var</th>\n",
       "      <th>mfcc19_mean</th>\n",
       "      <th>mfcc19_var</th>\n",
       "      <th>mfcc20_mean</th>\n",
       "      <th>mfcc20_var</th>\n",
       "    </tr>\n",
       "  </thead>\n",
       "  <tbody>\n",
       "    <tr>\n",
       "      <th>0</th>\n",
       "      <td>blues.00000.wav</td>\n",
       "      <td>0.350088</td>\n",
       "      <td>0.088757</td>\n",
       "      <td>0.130228</td>\n",
       "      <td>0.002827</td>\n",
       "      <td>1784.165850</td>\n",
       "      <td>129774.064525</td>\n",
       "      <td>2002.449060</td>\n",
       "      <td>85882.761315</td>\n",
       "      <td>3805.839606</td>\n",
       "      <td>...</td>\n",
       "      <td>0.752740</td>\n",
       "      <td>52.420910</td>\n",
       "      <td>-1.690215</td>\n",
       "      <td>36.524071</td>\n",
       "      <td>-0.408979</td>\n",
       "      <td>41.597103</td>\n",
       "      <td>-2.303523</td>\n",
       "      <td>55.062923</td>\n",
       "      <td>1.221291</td>\n",
       "      <td>46.936035</td>\n",
       "    </tr>\n",
       "    <tr>\n",
       "      <th>1</th>\n",
       "      <td>blues.00001.wav</td>\n",
       "      <td>0.340914</td>\n",
       "      <td>0.094980</td>\n",
       "      <td>0.095948</td>\n",
       "      <td>0.002373</td>\n",
       "      <td>1530.176679</td>\n",
       "      <td>375850.073649</td>\n",
       "      <td>2039.036516</td>\n",
       "      <td>213843.755497</td>\n",
       "      <td>3550.522098</td>\n",
       "      <td>...</td>\n",
       "      <td>0.927998</td>\n",
       "      <td>55.356403</td>\n",
       "      <td>-0.731125</td>\n",
       "      <td>60.314529</td>\n",
       "      <td>0.295073</td>\n",
       "      <td>48.120598</td>\n",
       "      <td>-0.283518</td>\n",
       "      <td>51.106190</td>\n",
       "      <td>0.531217</td>\n",
       "      <td>45.786282</td>\n",
       "    </tr>\n",
       "    <tr>\n",
       "      <th>2</th>\n",
       "      <td>blues.00002.wav</td>\n",
       "      <td>0.363637</td>\n",
       "      <td>0.085275</td>\n",
       "      <td>0.175570</td>\n",
       "      <td>0.002746</td>\n",
       "      <td>1552.811865</td>\n",
       "      <td>156467.643368</td>\n",
       "      <td>1747.702312</td>\n",
       "      <td>76254.192257</td>\n",
       "      <td>3042.260232</td>\n",
       "      <td>...</td>\n",
       "      <td>2.451690</td>\n",
       "      <td>40.598766</td>\n",
       "      <td>-7.729093</td>\n",
       "      <td>47.639427</td>\n",
       "      <td>-1.816407</td>\n",
       "      <td>52.382141</td>\n",
       "      <td>-3.439720</td>\n",
       "      <td>46.639660</td>\n",
       "      <td>-2.231258</td>\n",
       "      <td>30.573025</td>\n",
       "    </tr>\n",
       "    <tr>\n",
       "      <th>3</th>\n",
       "      <td>blues.00003.wav</td>\n",
       "      <td>0.404785</td>\n",
       "      <td>0.093999</td>\n",
       "      <td>0.141093</td>\n",
       "      <td>0.006346</td>\n",
       "      <td>1070.106615</td>\n",
       "      <td>184355.942417</td>\n",
       "      <td>1596.412872</td>\n",
       "      <td>166441.494769</td>\n",
       "      <td>2184.745799</td>\n",
       "      <td>...</td>\n",
       "      <td>0.780874</td>\n",
       "      <td>44.427753</td>\n",
       "      <td>-3.319597</td>\n",
       "      <td>50.206673</td>\n",
       "      <td>0.636965</td>\n",
       "      <td>37.319130</td>\n",
       "      <td>-0.619121</td>\n",
       "      <td>37.259739</td>\n",
       "      <td>-3.407448</td>\n",
       "      <td>31.949339</td>\n",
       "    </tr>\n",
       "    <tr>\n",
       "      <th>4</th>\n",
       "      <td>blues.00004.wav</td>\n",
       "      <td>0.308526</td>\n",
       "      <td>0.087841</td>\n",
       "      <td>0.091529</td>\n",
       "      <td>0.002303</td>\n",
       "      <td>1835.004266</td>\n",
       "      <td>343399.939274</td>\n",
       "      <td>1748.172116</td>\n",
       "      <td>88445.209036</td>\n",
       "      <td>3579.757627</td>\n",
       "      <td>...</td>\n",
       "      <td>-4.520576</td>\n",
       "      <td>86.099236</td>\n",
       "      <td>-5.454034</td>\n",
       "      <td>75.269707</td>\n",
       "      <td>-0.916874</td>\n",
       "      <td>53.613918</td>\n",
       "      <td>-4.404827</td>\n",
       "      <td>62.910812</td>\n",
       "      <td>-11.703234</td>\n",
       "      <td>55.195160</td>\n",
       "    </tr>\n",
       "    <tr>\n",
       "      <th>...</th>\n",
       "      <td>...</td>\n",
       "      <td>...</td>\n",
       "      <td>...</td>\n",
       "      <td>...</td>\n",
       "      <td>...</td>\n",
       "      <td>...</td>\n",
       "      <td>...</td>\n",
       "      <td>...</td>\n",
       "      <td>...</td>\n",
       "      <td>...</td>\n",
       "      <td>...</td>\n",
       "      <td>...</td>\n",
       "      <td>...</td>\n",
       "      <td>...</td>\n",
       "      <td>...</td>\n",
       "      <td>...</td>\n",
       "      <td>...</td>\n",
       "      <td>...</td>\n",
       "      <td>...</td>\n",
       "      <td>...</td>\n",
       "      <td>...</td>\n",
       "    </tr>\n",
       "    <tr>\n",
       "      <th>995</th>\n",
       "      <td>rock.00095.wav</td>\n",
       "      <td>0.352063</td>\n",
       "      <td>0.080487</td>\n",
       "      <td>0.079486</td>\n",
       "      <td>0.000345</td>\n",
       "      <td>2008.149458</td>\n",
       "      <td>282174.689224</td>\n",
       "      <td>2106.541053</td>\n",
       "      <td>88609.749506</td>\n",
       "      <td>4253.557033</td>\n",
       "      <td>...</td>\n",
       "      <td>1.789867</td>\n",
       "      <td>45.050526</td>\n",
       "      <td>-13.289984</td>\n",
       "      <td>41.754955</td>\n",
       "      <td>2.484145</td>\n",
       "      <td>36.778877</td>\n",
       "      <td>-6.713265</td>\n",
       "      <td>54.866825</td>\n",
       "      <td>-1.193787</td>\n",
       "      <td>49.950665</td>\n",
       "    </tr>\n",
       "    <tr>\n",
       "      <th>996</th>\n",
       "      <td>rock.00096.wav</td>\n",
       "      <td>0.398687</td>\n",
       "      <td>0.075086</td>\n",
       "      <td>0.076458</td>\n",
       "      <td>0.000588</td>\n",
       "      <td>2006.843354</td>\n",
       "      <td>182114.709510</td>\n",
       "      <td>2068.942009</td>\n",
       "      <td>82426.016726</td>\n",
       "      <td>4149.338328</td>\n",
       "      <td>...</td>\n",
       "      <td>3.739020</td>\n",
       "      <td>33.851742</td>\n",
       "      <td>-10.848309</td>\n",
       "      <td>39.395096</td>\n",
       "      <td>1.881229</td>\n",
       "      <td>32.010040</td>\n",
       "      <td>-7.461491</td>\n",
       "      <td>39.196327</td>\n",
       "      <td>-2.795338</td>\n",
       "      <td>31.773624</td>\n",
       "    </tr>\n",
       "    <tr>\n",
       "      <th>997</th>\n",
       "      <td>rock.00097.wav</td>\n",
       "      <td>0.432142</td>\n",
       "      <td>0.075268</td>\n",
       "      <td>0.081651</td>\n",
       "      <td>0.000322</td>\n",
       "      <td>2077.526598</td>\n",
       "      <td>231657.968040</td>\n",
       "      <td>1927.293153</td>\n",
       "      <td>74717.124394</td>\n",
       "      <td>4031.405321</td>\n",
       "      <td>...</td>\n",
       "      <td>1.838090</td>\n",
       "      <td>33.597008</td>\n",
       "      <td>-12.845291</td>\n",
       "      <td>36.367264</td>\n",
       "      <td>3.440978</td>\n",
       "      <td>36.001110</td>\n",
       "      <td>-12.588070</td>\n",
       "      <td>42.502201</td>\n",
       "      <td>-2.106337</td>\n",
       "      <td>29.865515</td>\n",
       "    </tr>\n",
       "    <tr>\n",
       "      <th>998</th>\n",
       "      <td>rock.00098.wav</td>\n",
       "      <td>0.362485</td>\n",
       "      <td>0.091506</td>\n",
       "      <td>0.083860</td>\n",
       "      <td>0.001211</td>\n",
       "      <td>1398.699344</td>\n",
       "      <td>240318.731073</td>\n",
       "      <td>1818.450280</td>\n",
       "      <td>109090.207161</td>\n",
       "      <td>3015.631004</td>\n",
       "      <td>...</td>\n",
       "      <td>-2.812176</td>\n",
       "      <td>46.324894</td>\n",
       "      <td>-4.416050</td>\n",
       "      <td>43.583942</td>\n",
       "      <td>1.556207</td>\n",
       "      <td>34.331261</td>\n",
       "      <td>-5.041897</td>\n",
       "      <td>47.227180</td>\n",
       "      <td>-3.590644</td>\n",
       "      <td>41.299088</td>\n",
       "    </tr>\n",
       "    <tr>\n",
       "      <th>999</th>\n",
       "      <td>rock.00099.wav</td>\n",
       "      <td>0.358401</td>\n",
       "      <td>0.085884</td>\n",
       "      <td>0.054454</td>\n",
       "      <td>0.000336</td>\n",
       "      <td>1609.795082</td>\n",
       "      <td>422203.216152</td>\n",
       "      <td>1797.213044</td>\n",
       "      <td>120115.632927</td>\n",
       "      <td>3246.908930</td>\n",
       "      <td>...</td>\n",
       "      <td>1.794104</td>\n",
       "      <td>59.167755</td>\n",
       "      <td>-7.069775</td>\n",
       "      <td>73.760391</td>\n",
       "      <td>0.028346</td>\n",
       "      <td>76.504326</td>\n",
       "      <td>-2.025783</td>\n",
       "      <td>72.189316</td>\n",
       "      <td>1.155239</td>\n",
       "      <td>49.662510</td>\n",
       "    </tr>\n",
       "  </tbody>\n",
       "</table>\n",
       "<p>1000 rows × 58 columns</p>\n",
       "</div>"
      ],
      "text/plain": [
       "            filename  chroma_stft_mean  chroma_stft_var  rms_mean   rms_var  \\\n",
       "0    blues.00000.wav          0.350088         0.088757  0.130228  0.002827   \n",
       "1    blues.00001.wav          0.340914         0.094980  0.095948  0.002373   \n",
       "2    blues.00002.wav          0.363637         0.085275  0.175570  0.002746   \n",
       "3    blues.00003.wav          0.404785         0.093999  0.141093  0.006346   \n",
       "4    blues.00004.wav          0.308526         0.087841  0.091529  0.002303   \n",
       "..               ...               ...              ...       ...       ...   \n",
       "995   rock.00095.wav          0.352063         0.080487  0.079486  0.000345   \n",
       "996   rock.00096.wav          0.398687         0.075086  0.076458  0.000588   \n",
       "997   rock.00097.wav          0.432142         0.075268  0.081651  0.000322   \n",
       "998   rock.00098.wav          0.362485         0.091506  0.083860  0.001211   \n",
       "999   rock.00099.wav          0.358401         0.085884  0.054454  0.000336   \n",
       "\n",
       "     spectral_centroid_mean  spectral_centroid_var  spectral_bandwidth_mean  \\\n",
       "0               1784.165850          129774.064525              2002.449060   \n",
       "1               1530.176679          375850.073649              2039.036516   \n",
       "2               1552.811865          156467.643368              1747.702312   \n",
       "3               1070.106615          184355.942417              1596.412872   \n",
       "4               1835.004266          343399.939274              1748.172116   \n",
       "..                      ...                    ...                      ...   \n",
       "995             2008.149458          282174.689224              2106.541053   \n",
       "996             2006.843354          182114.709510              2068.942009   \n",
       "997             2077.526598          231657.968040              1927.293153   \n",
       "998             1398.699344          240318.731073              1818.450280   \n",
       "999             1609.795082          422203.216152              1797.213044   \n",
       "\n",
       "     spectral_bandwidth_var  rolloff_mean  ...  mfcc16_mean  mfcc16_var  \\\n",
       "0              85882.761315   3805.839606  ...     0.752740   52.420910   \n",
       "1             213843.755497   3550.522098  ...     0.927998   55.356403   \n",
       "2              76254.192257   3042.260232  ...     2.451690   40.598766   \n",
       "3             166441.494769   2184.745799  ...     0.780874   44.427753   \n",
       "4              88445.209036   3579.757627  ...    -4.520576   86.099236   \n",
       "..                      ...           ...  ...          ...         ...   \n",
       "995            88609.749506   4253.557033  ...     1.789867   45.050526   \n",
       "996            82426.016726   4149.338328  ...     3.739020   33.851742   \n",
       "997            74717.124394   4031.405321  ...     1.838090   33.597008   \n",
       "998           109090.207161   3015.631004  ...    -2.812176   46.324894   \n",
       "999           120115.632927   3246.908930  ...     1.794104   59.167755   \n",
       "\n",
       "     mfcc17_mean  mfcc17_var  mfcc18_mean  mfcc18_var  mfcc19_mean  \\\n",
       "0      -1.690215   36.524071    -0.408979   41.597103    -2.303523   \n",
       "1      -0.731125   60.314529     0.295073   48.120598    -0.283518   \n",
       "2      -7.729093   47.639427    -1.816407   52.382141    -3.439720   \n",
       "3      -3.319597   50.206673     0.636965   37.319130    -0.619121   \n",
       "4      -5.454034   75.269707    -0.916874   53.613918    -4.404827   \n",
       "..           ...         ...          ...         ...          ...   \n",
       "995   -13.289984   41.754955     2.484145   36.778877    -6.713265   \n",
       "996   -10.848309   39.395096     1.881229   32.010040    -7.461491   \n",
       "997   -12.845291   36.367264     3.440978   36.001110   -12.588070   \n",
       "998    -4.416050   43.583942     1.556207   34.331261    -5.041897   \n",
       "999    -7.069775   73.760391     0.028346   76.504326    -2.025783   \n",
       "\n",
       "     mfcc19_var  mfcc20_mean  mfcc20_var  \n",
       "0     55.062923     1.221291   46.936035  \n",
       "1     51.106190     0.531217   45.786282  \n",
       "2     46.639660    -2.231258   30.573025  \n",
       "3     37.259739    -3.407448   31.949339  \n",
       "4     62.910812   -11.703234   55.195160  \n",
       "..          ...          ...         ...  \n",
       "995   54.866825    -1.193787   49.950665  \n",
       "996   39.196327    -2.795338   31.773624  \n",
       "997   42.502201    -2.106337   29.865515  \n",
       "998   47.227180    -3.590644   41.299088  \n",
       "999   72.189316     1.155239   49.662510  \n",
       "\n",
       "[1000 rows x 58 columns]"
      ]
     },
     "execution_count": 27,
     "metadata": {},
     "output_type": "execute_result"
    }
   ],
   "source": [
    "num_feats = pd.read_csv('../../data/features_30_sec.csv')\n",
    "num_feats = num_feats.drop(columns=['length', 'label'])\n",
    "num_feats"
   ]
  },
  {
   "cell_type": "code",
   "execution_count": 28,
   "metadata": {},
   "outputs": [],
   "source": [
    "train_num_feats = pd.merge(num_feats, df_train['filename'], how=\"inner\", on=\"filename\")\n",
    "test_num_feats = pd.merge(num_feats, df_test['filename'], how=\"inner\", on=\"filename\")\n",
    "assert len(df_train) == len(train_num_feats)\n",
    "assert len(df_test) == len(test_num_feats)"
   ]
  },
  {
   "cell_type": "code",
   "execution_count": 29,
   "metadata": {},
   "outputs": [
    {
     "name": "stdout",
     "output_type": "stream",
     "text": [
      "Loading saved glove word2vec 100d model\n",
      "Loading saved glove word2vec 300d model\n",
      "{'100d': <gensim.models.keyedvectors.KeyedVectors object at 0x7f92b0915df0>, '300d': <gensim.models.keyedvectors.KeyedVectors object at 0x7f92b0915790>}\n"
     ]
    }
   ],
   "source": [
    "# word vectors of the following dimensions are available: 50d, 100d, 200d, 300d \n",
    "GLOVE_MODELS = {}\n",
    "\n",
    "for dim in [\"100d\", \"300d\"]:#[\"50d\", \"100d\", \"200d\", \"300d\"]:\n",
    "    glove_path = f\"../../glove/glove.6B.{dim}.txt\"\n",
    "    glove_word2vec_path = glove_path + '.word2vec'\n",
    "\n",
    "    if os.path.exists(glove_word2vec_path):\n",
    "        # load the Stanford GloVe model\n",
    "        print(f\"Loading saved glove word2vec {dim} model\")\n",
    "        GLOVE_MODELS[dim] = KeyedVectors.load_word2vec_format(glove_word2vec_path, binary=False)\n",
    "    else:\n",
    "        # load the Stanford GloVe model from txt file, convert to word2vec and save\n",
    "        print(f\"Creating glove word2vec {dim} model\")\n",
    "        glove_model = KeyedVectors.load_word2vec_format(glove_path, binary=False, no_header=True)\n",
    "        glove_model.save_word2vec_format(glove_word2vec_path)\n",
    "        GLOVE_MODELS[dim] = glove_model\n",
    "\n",
    "print(GLOVE_MODELS)"
   ]
  },
  {
   "cell_type": "code",
   "execution_count": 30,
   "metadata": {},
   "outputs": [
    {
     "name": "stdout",
     "output_type": "stream",
     "text": [
      "Coding of labels into a one-hot vector, e.g.: \n",
      "country -> [0 1 0 0 0 0 0 0]\n",
      "reggae  -> [0 0 0 0 0 0 1 0]\n",
      "disco   -> [0 0 1 0 0 0 0 0]\n"
     ]
    }
   ],
   "source": [
    "from sklearn.preprocessing import LabelBinarizer\n",
    "\n",
    "# Renaming, Input -> X, Output -> y\n",
    "#X_tf_train = df_train['lyrics']\n",
    "#X_tf_test = df_test['lyrics']\n",
    "X_tf_train = df_train['lemmatized'].apply(' '.join)\n",
    "X_tf_test = df_test['lemmatized'].apply(' '.join)\n",
    "\n",
    "# Convert labels into a one-hot vector (length = number of genres)\n",
    "lab = LabelBinarizer()\n",
    "lab.fit(df_train['genre'])\n",
    "y_tf_train = lab.transform(df_train['genre'])\n",
    "y_tf_test = lab.transform(df_test['genre'])\n",
    "\n",
    "# Example (you can modify n)\n",
    "print('Coding of labels into a one-hot vector, e.g.: ')\n",
    "print(df_train['genre'][0], '->', y_tf_train[0])\n",
    "print(df_train['genre'][1], ' ->', y_tf_train[1])\n",
    "print(df_train['genre'][2], '  ->', y_tf_train[2])"
   ]
  },
  {
   "cell_type": "code",
   "execution_count": 31,
   "metadata": {},
   "outputs": [],
   "source": [
    "corpus = X_tf_train\n",
    "max_words = 20000\n",
    "tokenizer = kprocessing.text.Tokenizer(lower=True, split=' ', num_words=max_words, oov_token=\"<pad>\", filters='!\"#$%&()*+,-./:;<=>?@[\\\\]^_`{|}~\\t\\n')\n",
    "tokenizer.fit_on_texts(corpus)\n",
    "voc = tokenizer.word_index\n",
    "reverse_voc = dict([(value, key) for (key, value) in voc.items()])"
   ]
  },
  {
   "cell_type": "code",
   "execution_count": 157,
   "metadata": {},
   "outputs": [
    {
     "name": "stdout",
     "output_type": "stream",
     "text": [
      "Shape:  (609, 200)\n",
      "Example:  [   0    0    0    0    0    0    0    0    0    0    0    0    0    0\n",
      "    0    0    0    0    0    0    0    0    0    0    0    0    0    0\n",
      "    0    0    0    0    0    0    0    0    0    0    0    0    0    0\n",
      "    0    0    0    0    0    0    0    0    0    0    0    0    0    0\n",
      "    0    0    0    0    0    0    0    0    0    0    0    0    0    0\n",
      "    0    0    0    0    0    0    0    0    0    0    0    0    0    0\n",
      "    0    0    0    0    0    0    0    0    0    0    0    0    0    0\n",
      "    0   24  873 1563 1022  758  328 4351   90   81  114   11 1083  299\n",
      " 1431    2 4352 2552 1150   35   11  617  509  136  315 4353  265  114\n",
      "  269  269 1902  269 1023  114 2163  268  153 1564   40  273  140   22\n",
      "  492   77  155  395  239  431   76   13  316   27  136   69   14 1903\n",
      "  493  557  396 1432  420   30   41   31   66  470  283   24   11 1151\n",
      "  114 4354  329 3143   59   82 1565 1566 1235  220   10  246  558   26\n",
      " 2163 4355   10  874    2  252 2553    2   82  450  114   11  369  344\n",
      "  451   40   82   11]\n"
     ]
    }
   ],
   "source": [
    "max_len = 200\n",
    "\n",
    "sequences = tokenizer.texts_to_sequences(X_tf_train)\n",
    "X_tf_train_seq = kprocessing.sequence.pad_sequences(sequences, maxlen=max_len)\n",
    "\n",
    "# Apply the same to test data\n",
    "X_tf_test_seq = kprocessing.sequence.pad_sequences(tokenizer.texts_to_sequences(X_tf_test), maxlen=max_len)\n",
    "\n",
    "n=0 # You can adjust n\n",
    "print('Shape: ',X_tf_train_seq.shape)\n",
    "print('Example: ',X_tf_train_seq[n,:])"
   ]
  },
  {
   "cell_type": "code",
   "execution_count": 158,
   "metadata": {},
   "outputs": [
    {
     "name": "stdout",
     "output_type": "stream",
     "text": [
      "(7660, 100)\n"
     ]
    }
   ],
   "source": [
    "glove = GLOVE_MODELS[\"100d\"]\n",
    "corpus_len = len(reverse_voc)\n",
    "emb_matrix=np.zeros((corpus_len+1, glove.vector_size))\n",
    "\n",
    "for i in range(corpus_len):\n",
    "    w = reverse_voc[i+1]\n",
    "    try:\n",
    "        # throws KeyError if word not found\n",
    "        #word_embed = \n",
    "        emb_matrix[i+1,:] = glove.get_vector(w)\n",
    "    except KeyError:\n",
    "        pass\n",
    "    \n",
    "emb_size = emb_matrix.shape[1]\n",
    "print(emb_matrix.shape)"
   ]
  },
  {
   "cell_type": "code",
   "execution_count": 159,
   "metadata": {},
   "outputs": [
    {
     "name": "stdout",
     "output_type": "stream",
     "text": [
      "(609, 57)\n"
     ]
    }
   ],
   "source": [
    "X_train_num = train_num_feats.drop(columns=['filename']).to_numpy(dtype='float')\n",
    "X_test_num = test_num_feats.drop(columns=['filename']).to_numpy(dtype='float')\n",
    "\n",
    "scale = StandardScaler()\n",
    "scale.fit(X_train_num)\n",
    "X_train_num = scale.transform(X_train_num)\n",
    "X_test_num = scale.transform(X_test_num)\n",
    "\n",
    "print(X_train_num.shape)"
   ]
  },
  {
   "cell_type": "code",
   "execution_count": 169,
   "metadata": {},
   "outputs": [],
   "source": [
    "text_input_ = layers.Input(shape = X_tf_train_seq[0,:].shape, name='text_input')\n",
    "num_input_ = layers.Input(shape = X_train_num[0,:].shape, name='numerical_input')\n",
    "\n",
    "# Embedding layer (voc size plus pad token (with index 0), using the pre-trained emb_matrix obtained from glove\n",
    "x = layers.Embedding(corpus_len+1, emb_size, weights=[emb_matrix], trainable=False, name='embedding')(text_input_)\n",
    "x = layers.Bidirectional(layers.LSTM(64,dropout=0.2), name='bidirectional-lstm2')(x) # LSTM layer\n",
    "x2 = layers.Concatenate(name='concatenate')([x, num_input_])\n",
    "x2 = layers.Dropout(0.2, name='dropout')(x2)\n",
    "x2 = layers.Dense(128, activation='relu', name='dense1')(x2)\n",
    "output = layers.Dense(df_train['genre'].nunique(), activation='softmax', name='classification')(x2)\n",
    "\n",
    "model = models.Model([text_input_, num_input_], output)\n",
    "\n",
    "opt = optimizers.Adam(learning_rate=0.01, beta_1=0.9)\n",
    "model.compile(optimizer=opt, loss='categorical_crossentropy', metrics=['accuracy'])"
   ]
  },
  {
   "cell_type": "code",
   "execution_count": 170,
   "metadata": {},
   "outputs": [
    {
     "name": "stdout",
     "output_type": "stream",
     "text": [
      "Model: \"model_21\"\n",
      "__________________________________________________________________________________________________\n",
      " Layer (type)                   Output Shape         Param #     Connected to                     \n",
      "==================================================================================================\n",
      " text_input (InputLayer)        [(None, 200)]        0           []                               \n",
      "                                                                                                  \n",
      " embedding (Embedding)          (None, 200, 100)     766000      ['text_input[0][0]']             \n",
      "                                                                                                  \n",
      " bidirectional-lstm2 (Bidirecti  (None, 128)         84480       ['embedding[0][0]']              \n",
      " onal)                                                                                            \n",
      "                                                                                                  \n",
      " numerical_input (InputLayer)   [(None, 57)]         0           []                               \n",
      "                                                                                                  \n",
      " concatenate (Concatenate)      (None, 185)          0           ['bidirectional-lstm2[0][0]',    \n",
      "                                                                  'numerical_input[0][0]']        \n",
      "                                                                                                  \n",
      " dropout (Dropout)              (None, 185)          0           ['concatenate[0][0]']            \n",
      "                                                                                                  \n",
      " dense1 (Dense)                 (None, 128)          23808       ['dropout[0][0]']                \n",
      "                                                                                                  \n",
      " classification (Dense)         (None, 8)            1032        ['dense1[0][0]']                 \n",
      "                                                                                                  \n",
      "==================================================================================================\n",
      "Total params: 875,320\n",
      "Trainable params: 109,320\n",
      "Non-trainable params: 766,000\n",
      "__________________________________________________________________________________________________\n"
     ]
    }
   ],
   "source": [
    "model.summary()"
   ]
  },
  {
   "cell_type": "code",
   "execution_count": 172,
   "metadata": {},
   "outputs": [
    {
     "name": "stdout",
     "output_type": "stream",
     "text": [
      "Epoch 1/20\n",
      "39/39 [==============================] - ETA: 0s - loss: 0.5033 - accuracy: 0.8309"
     ]
    },
    {
     "name": "stderr",
     "output_type": "stream",
     "text": [
      "WARNING:absl:Found untraced functions such as lstm_cell_98_layer_call_fn, lstm_cell_98_layer_call_and_return_conditional_losses, lstm_cell_99_layer_call_fn, lstm_cell_99_layer_call_and_return_conditional_losses while saving (showing 4 of 4). These functions will not be directly callable after loading.\n"
     ]
    },
    {
     "name": "stdout",
     "output_type": "stream",
     "text": [
      "INFO:tensorflow:Assets written to: concat_model2/0.307_acc/assets\n"
     ]
    },
    {
     "name": "stderr",
     "output_type": "stream",
     "text": [
      "INFO:tensorflow:Assets written to: concat_model2/0.307_acc/assets\n",
      "WARNING:absl:<keras.layers.recurrent.LSTMCell object at 0x7f9206165280> has the same name 'LSTMCell' as a built-in Keras object. Consider renaming <class 'keras.layers.recurrent.LSTMCell'> to avoid naming conflicts when loading with `tf.keras.models.load_model`. If renaming is not possible, pass the object in the `custom_objects` parameter of the load function.\n",
      "WARNING:absl:<keras.layers.recurrent.LSTMCell object at 0x7f9251c6e6a0> has the same name 'LSTMCell' as a built-in Keras object. Consider renaming <class 'keras.layers.recurrent.LSTMCell'> to avoid naming conflicts when loading with `tf.keras.models.load_model`. If renaming is not possible, pass the object in the `custom_objects` parameter of the load function.\n"
     ]
    },
    {
     "name": "stdout",
     "output_type": "stream",
     "text": [
      "39/39 [==============================] - 12s 313ms/step - loss: 0.5033 - accuracy: 0.8309 - val_loss: 4.0493 - val_accuracy: 0.3072\n",
      "Epoch 2/20\n",
      "39/39 [==============================] - 3s 77ms/step - loss: 0.4610 - accuracy: 0.8506 - val_loss: 3.9599 - val_accuracy: 0.3072\n",
      "Epoch 3/20\n",
      "39/39 [==============================] - ETA: 0s - loss: 0.4490 - accuracy: 0.8440"
     ]
    },
    {
     "name": "stderr",
     "output_type": "stream",
     "text": [
      "WARNING:absl:Found untraced functions such as lstm_cell_98_layer_call_fn, lstm_cell_98_layer_call_and_return_conditional_losses, lstm_cell_99_layer_call_fn, lstm_cell_99_layer_call_and_return_conditional_losses while saving (showing 4 of 4). These functions will not be directly callable after loading.\n"
     ]
    },
    {
     "name": "stdout",
     "output_type": "stream",
     "text": [
      "INFO:tensorflow:Assets written to: concat_model2/0.333_acc/assets\n"
     ]
    },
    {
     "name": "stderr",
     "output_type": "stream",
     "text": [
      "INFO:tensorflow:Assets written to: concat_model2/0.333_acc/assets\n",
      "WARNING:absl:<keras.layers.recurrent.LSTMCell object at 0x7f9206165280> has the same name 'LSTMCell' as a built-in Keras object. Consider renaming <class 'keras.layers.recurrent.LSTMCell'> to avoid naming conflicts when loading with `tf.keras.models.load_model`. If renaming is not possible, pass the object in the `custom_objects` parameter of the load function.\n",
      "WARNING:absl:<keras.layers.recurrent.LSTMCell object at 0x7f9251c6e6a0> has the same name 'LSTMCell' as a built-in Keras object. Consider renaming <class 'keras.layers.recurrent.LSTMCell'> to avoid naming conflicts when loading with `tf.keras.models.load_model`. If renaming is not possible, pass the object in the `custom_objects` parameter of the load function.\n"
     ]
    },
    {
     "name": "stdout",
     "output_type": "stream",
     "text": [
      "39/39 [==============================] - 10s 267ms/step - loss: 0.4490 - accuracy: 0.8440 - val_loss: 4.2761 - val_accuracy: 0.3333\n",
      "Epoch 4/20\n",
      "39/39 [==============================] - 3s 77ms/step - loss: 0.4761 - accuracy: 0.8522 - val_loss: 3.8521 - val_accuracy: 0.3137\n",
      "Epoch 5/20\n",
      "39/39 [==============================] - 3s 74ms/step - loss: 0.2938 - accuracy: 0.8966 - val_loss: 4.3521 - val_accuracy: 0.3137\n",
      "Epoch 6/20\n",
      "39/39 [==============================] - 3s 81ms/step - loss: 0.2732 - accuracy: 0.9163 - val_loss: 4.8116 - val_accuracy: 0.2876\n",
      "Epoch 7/20\n",
      "39/39 [==============================] - 4s 97ms/step - loss: 0.3193 - accuracy: 0.8982 - val_loss: 4.9937 - val_accuracy: 0.2941\n",
      "Epoch 8/20\n",
      "39/39 [==============================] - 5s 120ms/step - loss: 0.3326 - accuracy: 0.8982 - val_loss: 4.7839 - val_accuracy: 0.3137\n",
      "Epoch 9/20\n",
      "39/39 [==============================] - 4s 107ms/step - loss: 0.2448 - accuracy: 0.9130 - val_loss: 4.5766 - val_accuracy: 0.3203\n",
      "Epoch 10/20\n",
      "39/39 [==============================] - 4s 92ms/step - loss: 0.2756 - accuracy: 0.9245 - val_loss: 4.5695 - val_accuracy: 0.2876\n",
      "Epoch 11/20\n",
      "39/39 [==============================] - 4s 92ms/step - loss: 0.2570 - accuracy: 0.9228 - val_loss: 4.7806 - val_accuracy: 0.2680\n",
      "Epoch 12/20\n",
      "39/39 [==============================] - ETA: 0s - loss: 0.2031 - accuracy: 0.9310"
     ]
    },
    {
     "name": "stderr",
     "output_type": "stream",
     "text": [
      "WARNING:absl:Found untraced functions such as lstm_cell_98_layer_call_fn, lstm_cell_98_layer_call_and_return_conditional_losses, lstm_cell_99_layer_call_fn, lstm_cell_99_layer_call_and_return_conditional_losses while saving (showing 4 of 4). These functions will not be directly callable after loading.\n"
     ]
    },
    {
     "name": "stdout",
     "output_type": "stream",
     "text": [
      "INFO:tensorflow:Assets written to: concat_model2/0.340_acc/assets\n"
     ]
    },
    {
     "name": "stderr",
     "output_type": "stream",
     "text": [
      "INFO:tensorflow:Assets written to: concat_model2/0.340_acc/assets\n",
      "WARNING:absl:<keras.layers.recurrent.LSTMCell object at 0x7f9206165280> has the same name 'LSTMCell' as a built-in Keras object. Consider renaming <class 'keras.layers.recurrent.LSTMCell'> to avoid naming conflicts when loading with `tf.keras.models.load_model`. If renaming is not possible, pass the object in the `custom_objects` parameter of the load function.\n",
      "WARNING:absl:<keras.layers.recurrent.LSTMCell object at 0x7f9251c6e6a0> has the same name 'LSTMCell' as a built-in Keras object. Consider renaming <class 'keras.layers.recurrent.LSTMCell'> to avoid naming conflicts when loading with `tf.keras.models.load_model`. If renaming is not possible, pass the object in the `custom_objects` parameter of the load function.\n"
     ]
    },
    {
     "name": "stdout",
     "output_type": "stream",
     "text": [
      "39/39 [==============================] - 13s 335ms/step - loss: 0.2031 - accuracy: 0.9310 - val_loss: 5.1296 - val_accuracy: 0.3399\n",
      "Epoch 13/20\n",
      "39/39 [==============================] - 3s 81ms/step - loss: 0.1439 - accuracy: 0.9507 - val_loss: 5.2191 - val_accuracy: 0.3007\n",
      "Epoch 14/20\n",
      "39/39 [==============================] - 4s 103ms/step - loss: 0.2791 - accuracy: 0.9245 - val_loss: 4.9217 - val_accuracy: 0.3268\n",
      "Epoch 15/20\n",
      "39/39 [==============================] - 4s 94ms/step - loss: 0.1457 - accuracy: 0.9524 - val_loss: 4.7878 - val_accuracy: 0.2941\n",
      "Epoch 16/20\n",
      "39/39 [==============================] - 4s 101ms/step - loss: 0.1672 - accuracy: 0.9360 - val_loss: 5.2666 - val_accuracy: 0.3333\n",
      "Epoch 17/20\n",
      "39/39 [==============================] - ETA: 0s - loss: 0.1646 - accuracy: 0.9475"
     ]
    },
    {
     "name": "stderr",
     "output_type": "stream",
     "text": [
      "WARNING:absl:Found untraced functions such as lstm_cell_98_layer_call_fn, lstm_cell_98_layer_call_and_return_conditional_losses, lstm_cell_99_layer_call_fn, lstm_cell_99_layer_call_and_return_conditional_losses while saving (showing 4 of 4). These functions will not be directly callable after loading.\n"
     ]
    },
    {
     "name": "stdout",
     "output_type": "stream",
     "text": [
      "INFO:tensorflow:Assets written to: concat_model2/0.366_acc/assets\n"
     ]
    },
    {
     "name": "stderr",
     "output_type": "stream",
     "text": [
      "INFO:tensorflow:Assets written to: concat_model2/0.366_acc/assets\n",
      "WARNING:absl:<keras.layers.recurrent.LSTMCell object at 0x7f9206165280> has the same name 'LSTMCell' as a built-in Keras object. Consider renaming <class 'keras.layers.recurrent.LSTMCell'> to avoid naming conflicts when loading with `tf.keras.models.load_model`. If renaming is not possible, pass the object in the `custom_objects` parameter of the load function.\n",
      "WARNING:absl:<keras.layers.recurrent.LSTMCell object at 0x7f9251c6e6a0> has the same name 'LSTMCell' as a built-in Keras object. Consider renaming <class 'keras.layers.recurrent.LSTMCell'> to avoid naming conflicts when loading with `tf.keras.models.load_model`. If renaming is not possible, pass the object in the `custom_objects` parameter of the load function.\n"
     ]
    },
    {
     "name": "stdout",
     "output_type": "stream",
     "text": [
      "39/39 [==============================] - 13s 335ms/step - loss: 0.1646 - accuracy: 0.9475 - val_loss: 5.3015 - val_accuracy: 0.3660\n",
      "Epoch 18/20\n",
      "39/39 [==============================] - 3s 80ms/step - loss: 0.1851 - accuracy: 0.9425 - val_loss: 5.6316 - val_accuracy: 0.2876\n",
      "Epoch 19/20\n",
      "39/39 [==============================] - 4s 95ms/step - loss: 0.2158 - accuracy: 0.9409 - val_loss: 5.4098 - val_accuracy: 0.2941\n",
      "Epoch 20/20\n",
      "39/39 [==============================] - 4s 101ms/step - loss: 0.4211 - accuracy: 0.8966 - val_loss: 5.2833 - val_accuracy: 0.3137\n"
     ]
    }
   ],
   "source": [
    "start_time = datetime.now()\n",
    "\n",
    "checkpoint_cb = tf.keras.callbacks.ModelCheckpoint(\n",
    "    filepath=\"concat_model/{val_accuracy:.3f}_acc\",\n",
    "    monitor='val_accuracy',\n",
    "    mode='max',\n",
    "    save_weights_only=False,\n",
    "    save_best_only=True)\n",
    "\n",
    "history = model.fit([X_tf_train_seq, X_train_num], y_tf_train, batch_size=16, shuffle=True, epochs=20, callbacks=[checkpoint_cb], validation_data=([X_tf_test_seq, X_test_num], y_tf_test))\n",
    "end_time = datetime.now()\n",
    "\n",
    "training_time_rnn = (end_time - start_time).total_seconds()"
   ]
  },
  {
   "cell_type": "code",
   "execution_count": 168,
   "metadata": {},
   "outputs": [
    {
     "name": "stdout",
     "output_type": "stream",
     "text": [
      "\n",
      "Best Accuracy Training data:  99.84%\n",
      "Best Accuracy Test data:      45.10%\n",
      "Training time: 214.9 sec\n"
     ]
    },
    {
     "data": {
      "image/png": "[encoded data removed]",
      "text/plain": [
       "<Figure size 1080x360 with 2 Axes>"
      ]
     },
     "metadata": {},
     "output_type": "display_data"
    },
    {
     "data": {
      "image/png": "[encoded data removed]",
      "text/plain": [
       "<Figure size 576x432 with 2 Axes>"
      ]
     },
     "metadata": {},
     "output_type": "display_data"
    },
    {
     "name": "stdout",
     "output_type": "stream",
     "text": [
      "Accuracy  = 0.45098039215686275\n",
      "F1 score  = 0.43970239294896074\n",
      "Precision = 0.4587803415417795\n",
      "Recall    = 0.45098039215686275\n"
     ]
    }
   ],
   "source": [
    "fig, ax = plt.subplots(nrows=1, ncols=2, figsize=(15, 5))\n",
    "ax[0].set(title='Loss')\n",
    "ax[0].plot(history.history['loss'], label='Training data')\n",
    "ax[0].plot(history.history['val_loss'], label='Test data')\n",
    "ax[0].legend(loc=\"upper left\")\n",
    "\n",
    "ax[1].set(title='Accuracy')\n",
    "ax[1].plot(history.history['accuracy'], label='Training data')\n",
    "ax[1].plot(history.history['val_accuracy'], label='Test data')\n",
    "ax[1].legend(loc=\"upper left\")\n",
    "\n",
    "print(\"\")\n",
    "accuracy_rnn = history.history['val_accuracy'][-1]\n",
    "print('Best Accuracy Training data:  {:.2%}'.format(max(history.history['accuracy'])))\n",
    "print('Best Accuracy Test data:      {:.2%}'.format(max(history.history['val_accuracy'])))\n",
    "print('Training time: {:.1f} sec'.format(training_time_rnn))\n",
    "\n",
    "best = sorted(os.listdir(\"concat_model/\"))[-1]\n",
    "best_model = tf.keras.models.load_model(f\"concat_model/{best}\")\n",
    "pred_prob = best_model.predict([X_tf_test_seq, X_test_num])\n",
    "pred = np.argmax(pred_prob, axis=1)\n",
    "pred = lab.classes_[pred].tolist()\n",
    "evaluate_classifier(df_test['genre'], pred, lab.classes_)"
   ]
  },
  {
   "cell_type": "code",
   "execution_count": 146,
   "metadata": {},
   "outputs": [
    {
     "name": "stdout",
     "output_type": "stream",
     "text": [
      "\n",
      "Best Accuracy Training data:  99.34%\n",
      "Best Accuracy Test data:      45.75%\n",
      "Training time: 111.2 sec\n"
     ]
    },
    {
     "data": {
      "image/png": "[encoded data removed]",
      "text/plain": [
       "<Figure size 1080x360 with 2 Axes>"
      ]
     },
     "metadata": {},
     "output_type": "display_data"
    },
    {
     "data": {
      "image/png": "[encoded data removed]",
      "text/plain": [
       "<Figure size 576x432 with 2 Axes>"
      ]
     },
     "metadata": {},
     "output_type": "display_data"
    },
    {
     "name": "stdout",
     "output_type": "stream",
     "text": [
      "Accuracy  = 0.41830065359477125\n",
      "F1 score  = 0.409041906623075\n",
      "Precision = 0.41567708335330716\n",
      "Recall    = 0.41830065359477125\n"
     ]
    }
   ],
   "source": [
    "fig, ax = plt.subplots(nrows=1, ncols=2, figsize=(15, 5))\n",
    "ax[0].set(title='Loss')\n",
    "ax[0].plot(history.history['loss'], label='Training data')\n",
    "ax[0].plot(history.history['val_loss'], label='Test data')\n",
    "ax[0].legend(loc=\"upper left\")\n",
    "\n",
    "ax[1].set(title='Accuracy')\n",
    "ax[1].plot(history.history['accuracy'], label='Training data')\n",
    "ax[1].plot(history.history['val_accuracy'], label='Test data')\n",
    "ax[1].legend(loc=\"upper left\")\n",
    "\n",
    "print(\"\")\n",
    "accuracy_rnn = history.history['val_accuracy'][-1]\n",
    "print('Best Accuracy Training data:  {:.2%}'.format(max(history.history['accuracy'])))\n",
    "print('Best Accuracy Test data:      {:.2%}'.format(max(history.history['val_accuracy'])))\n",
    "print('Training time: {:.1f} sec'.format(training_time_rnn))\n",
    "\n",
    "pred_prob = model.predict([X_tf_test_seq, X_test_num])\n",
    "pred = np.argmax(pred_prob, axis=1)\n",
    "pred = lab.classes_[pred].tolist()\n",
    "evaluate_classifier(df_test['genre'], pred, lab.classes_)"
   ]
  }
 ],
 "metadata": {
  "colab": {
   "authorship_tag": "ABX9TyMgh+tFz2LwV+MV/HvYXc9Z",
   "collapsed_sections": [],
   "name": "naive-bayes_word2vec.ipynb",
   "provenance": []
  },
  "kernelspec": {
   "display_name": "Python 3 (ipykernel)",
   "language": "python",
   "name": "python3"
  },
  "language_info": {
   "codemirror_mode": {
    "name": "ipython",
    "version": 3
   },
   "file_extension": ".py",
   "mimetype": "text/x-python",
   "name": "python",
   "nbconvert_exporter": "python",
   "pygments_lexer": "ipython3",
   "version": "3.9.7"
  }
 },
 "nbformat": 4,
 "nbformat_minor": 4
}
