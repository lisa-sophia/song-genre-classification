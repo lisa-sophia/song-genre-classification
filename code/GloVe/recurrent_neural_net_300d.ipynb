{
 "cells": [
  {
   "cell_type": "code",
   "execution_count": 5,
   "metadata": {
    "colab": {
     "base_uri": "https://localhost:8080/"
    },
    "executionInfo": {
     "elapsed": 17300,
     "status": "ok",
     "timestamp": 1645532044623,
     "user": {
      "displayName": "Lisa Spahn Lundgren",
      "photoUrl": "https://lh3.googleusercontent.com/a/default-user=s64",
      "userId": "13266833213640265739"
     },
     "user_tz": -60
    },
    "id": "VXak8PjjRAQW",
    "outputId": "66554787-38d7-4d5e-f838-a12226fd84fe"
   },
   "outputs": [],
   "source": [
    "import pandas as pd\n",
    "import numpy as np\n",
    "import string\n",
    "import matplotlib.pyplot as plt\n",
    "import seaborn as sns\n",
    "import os\n",
    "import tensorflow as tf\n",
    "from tensorflow.keras import preprocessing as kprocessing\n",
    "from tensorflow.keras import models, layers, optimizers\n",
    "from ast import literal_eval\n",
    "from gensim.models import KeyedVectors\n",
    "from sklearn.pipeline import Pipeline\n",
    "from sklearn.feature_extraction.text import TfidfVectorizer, CountVectorizer\n",
    "from sklearn.naive_bayes import MultinomialNB, GaussianNB\n",
    "from sklearn.ensemble import RandomForestClassifier\n",
    "from sklearn.svm import SVC\n",
    "from xgboost import XGBClassifier\n",
    "from sklearn.metrics import classification_report, accuracy_score, f1_score, recall_score, precision_score\n",
    "from sklearn.model_selection import GridSearchCV\n",
    "from sklearn.preprocessing import LabelEncoder, MinMaxScaler, StandardScaler\n",
    "from sklearn.metrics import confusion_matrix, ConfusionMatrixDisplay\n",
    "from datetime import datetime"
   ]
  },
  {
   "cell_type": "markdown",
   "metadata": {},
   "source": [
    "The RNN training parts of this notebook are based on the following:\n",
    "\n",
    "https://medium.com/@claude.feldges/text-classification-with-tf-idf-lstm-bert-a-quantitative-comparison-b8409b556cb3"
   ]
  },
  {
   "cell_type": "code",
   "execution_count": 6,
   "metadata": {},
   "outputs": [],
   "source": [
    "### functions\n",
    "\n",
    "sns.set(font_scale=1.1)\n",
    "\n",
    "RANDOM_STATE = 12345\n",
    "\n",
    "def evaluate_classifier(y_test, pred, labels=None):\n",
    "\n",
    "    fig, ax = plt.subplots(figsize=(8,6))\n",
    "    # normalize : {'true', 'pred', 'all'}, default=None\n",
    "    # Normalizes confusion matrix over the true (rows), predicted (columns) conditions or all the population. \n",
    "    # If None, confusion matrix will not be normalized.\n",
    "    cm = confusion_matrix(y_test, pred, normalize=None) \n",
    "    disp = ConfusionMatrixDisplay(confusion_matrix=cm, display_labels=labels)\n",
    "    disp.plot(ax=ax)\n",
    "    plt.grid(False)\n",
    "    plt.show()\n",
    "    \n",
    "    print(\"Accuracy  = \" + str(accuracy_score(y_true=y_test, y_pred=pred)))\n",
    "    print(\"F1 score  = \" + str(f1_score(y_true=y_test, y_pred=pred, average='weighted')))\n",
    "    print(\"Precision = \" + str(precision_score(y_true=y_test, y_pred=pred, average='weighted')))\n",
    "    print(\"Recall    = \" + str(recall_score(y_true=y_test, y_pred=pred, average='weighted')))"
   ]
  },
  {
   "cell_type": "code",
   "execution_count": 7,
   "metadata": {
    "colab": {
     "base_uri": "https://localhost:8080/"
    },
    "executionInfo": {
     "elapsed": 36270,
     "status": "ok",
     "timestamp": 1645532377931,
     "user": {
      "displayName": "Lisa Spahn Lundgren",
      "photoUrl": "https://lh3.googleusercontent.com/a/default-user=s64",
      "userId": "13266833213640265739"
     },
     "user_tz": -60
    },
    "id": "AawEopyLSAmU",
    "outputId": "1a2cd245-6593-4af2-c426-4a11edac1a1d"
   },
   "outputs": [
    {
     "data": {
      "text/html": [
       "<div>\n",
       "<style scoped>\n",
       "    .dataframe tbody tr th:only-of-type {\n",
       "        vertical-align: middle;\n",
       "    }\n",
       "\n",
       "    .dataframe tbody tr th {\n",
       "        vertical-align: top;\n",
       "    }\n",
       "\n",
       "    .dataframe thead th {\n",
       "        text-align: right;\n",
       "    }\n",
       "</style>\n",
       "<table border=\"1\" class=\"dataframe\">\n",
       "  <thead>\n",
       "    <tr style=\"text-align: right;\">\n",
       "      <th></th>\n",
       "      <th>filename</th>\n",
       "      <th>artist</th>\n",
       "      <th>title</th>\n",
       "      <th>genre</th>\n",
       "      <th>lyrics</th>\n",
       "      <th>instrumental</th>\n",
       "      <th>tokenized</th>\n",
       "      <th>lemmatized</th>\n",
       "    </tr>\n",
       "  </thead>\n",
       "  <tbody>\n",
       "    <tr>\n",
       "      <th>0</th>\n",
       "      <td>country.00041.wav</td>\n",
       "      <td>Johnny Cash</td>\n",
       "      <td>Goin' By The Book</td>\n",
       "      <td>country</td>\n",
       "      <td>\\nYou can see it in the movies and the paper a...</td>\n",
       "      <td>False</td>\n",
       "      <td>['see', 'movies', 'paper', 'tv', 'news', 'some...</td>\n",
       "      <td>[see, movie, paper, tv, news, somebody, army, ...</td>\n",
       "    </tr>\n",
       "    <tr>\n",
       "      <th>1</th>\n",
       "      <td>reggae.00038.wav</td>\n",
       "      <td>Burning Spear</td>\n",
       "      <td>Investigation Dub</td>\n",
       "      <td>reggae</td>\n",
       "      <td>I and I old I know\\nI and I old I say\\nI and I...</td>\n",
       "      <td>False</td>\n",
       "      <td>['old', 'know', 'old', 'say', 'reconsider', 's...</td>\n",
       "      <td>[old, know, old, say, reconsider, see, upfully...</td>\n",
       "    </tr>\n",
       "    <tr>\n",
       "      <th>2</th>\n",
       "      <td>disco.00070.wav</td>\n",
       "      <td>KC and The Sunshine Band</td>\n",
       "      <td>That's The Way (I Like It)</td>\n",
       "      <td>disco</td>\n",
       "      <td>That's the way, aha, aha\\nI like it, aha, aha\\...</td>\n",
       "      <td>False</td>\n",
       "      <td>['thats', 'way', 'aha', 'aha', 'like', 'aha', ...</td>\n",
       "      <td>[thats, way, aha, aha, like, aha, aha, thats, ...</td>\n",
       "    </tr>\n",
       "    <tr>\n",
       "      <th>3</th>\n",
       "      <td>reggae.00088.wav</td>\n",
       "      <td>Marcia Griffiths</td>\n",
       "      <td>Electric Boogie</td>\n",
       "      <td>reggae</td>\n",
       "      <td>\\nIt's electric!\\n\\n\\nYou can't see it\\nIt's e...</td>\n",
       "      <td>False</td>\n",
       "      <td>['electric', 'cant', 'see', 'electric', 'got',...</td>\n",
       "      <td>[electric, cant, see, electric, get, ta, feel,...</td>\n",
       "    </tr>\n",
       "    <tr>\n",
       "      <th>4</th>\n",
       "      <td>pop.00017.wav</td>\n",
       "      <td>Britney Spears</td>\n",
       "      <td>(I Can't Get No) Satisfaction</td>\n",
       "      <td>pop</td>\n",
       "      <td>\\nI can't get no satisfaction\\nI can't get no ...</td>\n",
       "      <td>False</td>\n",
       "      <td>['cant', 'get', 'satisfaction', 'cant', 'get',...</td>\n",
       "      <td>[cant, get, satisfaction, cant, get, satisfact...</td>\n",
       "    </tr>\n",
       "  </tbody>\n",
       "</table>\n",
       "</div>"
      ],
      "text/plain": [
       "            filename                    artist                          title  \\\n",
       "0  country.00041.wav               Johnny Cash              Goin' By The Book   \n",
       "1   reggae.00038.wav             Burning Spear              Investigation Dub   \n",
       "2    disco.00070.wav  KC and The Sunshine Band     That's The Way (I Like It)   \n",
       "3   reggae.00088.wav          Marcia Griffiths                Electric Boogie   \n",
       "4      pop.00017.wav            Britney Spears  (I Can't Get No) Satisfaction   \n",
       "\n",
       "     genre                                             lyrics  instrumental  \\\n",
       "0  country  \\nYou can see it in the movies and the paper a...         False   \n",
       "1   reggae  I and I old I know\\nI and I old I say\\nI and I...         False   \n",
       "2    disco  That's the way, aha, aha\\nI like it, aha, aha\\...         False   \n",
       "3   reggae  \\nIt's electric!\\n\\n\\nYou can't see it\\nIt's e...         False   \n",
       "4      pop  \\nI can't get no satisfaction\\nI can't get no ...         False   \n",
       "\n",
       "                                           tokenized  \\\n",
       "0  ['see', 'movies', 'paper', 'tv', 'news', 'some...   \n",
       "1  ['old', 'know', 'old', 'say', 'reconsider', 's...   \n",
       "2  ['thats', 'way', 'aha', 'aha', 'like', 'aha', ...   \n",
       "3  ['electric', 'cant', 'see', 'electric', 'got',...   \n",
       "4  ['cant', 'get', 'satisfaction', 'cant', 'get',...   \n",
       "\n",
       "                                          lemmatized  \n",
       "0  [see, movie, paper, tv, news, somebody, army, ...  \n",
       "1  [old, know, old, say, reconsider, see, upfully...  \n",
       "2  [thats, way, aha, aha, like, aha, aha, thats, ...  \n",
       "3  [electric, cant, see, electric, get, ta, feel,...  \n",
       "4  [cant, get, satisfaction, cant, get, satisfact...  "
      ]
     },
     "execution_count": 7,
     "metadata": {},
     "output_type": "execute_result"
    }
   ],
   "source": [
    "df_train = pd.read_csv('../../data/train_data.csv')\n",
    "df_train['lemmatized'] = df_train['lemmatized'].apply(literal_eval)\n",
    "\n",
    "df_test = pd.read_csv('../../data/test_data.csv')\n",
    "df_test['lemmatized'] = df_test['lemmatized'].apply(literal_eval)\n",
    "\n",
    "df_train.head()"
   ]
  },
  {
   "cell_type": "code",
   "execution_count": 8,
   "metadata": {},
   "outputs": [
    {
     "name": "stdout",
     "output_type": "stream",
     "text": [
      "Loading saved glove word2vec 300d model\n",
      "{'300d': <gensim.models.keyedvectors.KeyedVectors object at 0x7fb61692faf0>}\n"
     ]
    }
   ],
   "source": [
    "# word vectors of the following dimensions are available: 50d, 100d, 200d, 300d \n",
    "GLOVE_MODELS = {}\n",
    "\n",
    "for dim in [\"300d\"]:#[\"50d\", \"100d\", \"200d\", \"300d\"]:\n",
    "    glove_path = f\"../../glove/glove.6B.{dim}.txt\"\n",
    "    glove_word2vec_path = glove_path + '.word2vec'\n",
    "\n",
    "    if os.path.exists(glove_word2vec_path):\n",
    "        # load the Stanford GloVe model\n",
    "        print(f\"Loading saved glove word2vec {dim} model\")\n",
    "        GLOVE_MODELS[dim] = KeyedVectors.load_word2vec_format(glove_word2vec_path, binary=False)\n",
    "    else:\n",
    "        # load the Stanford GloVe model from txt file, convert to word2vec and save\n",
    "        print(f\"Creating glove word2vec {dim} model\")\n",
    "        glove_model = KeyedVectors.load_word2vec_format(glove_path, binary=False, no_header=True)\n",
    "        glove_model.save_word2vec_format(glove_word2vec_path)\n",
    "        GLOVE_MODELS[dim] = glove_model\n",
    "\n",
    "print(GLOVE_MODELS)"
   ]
  },
  {
   "cell_type": "code",
   "execution_count": 9,
   "metadata": {},
   "outputs": [],
   "source": [
    "from sklearn.base import BaseEstimator\n",
    "\n",
    "# create vectorizer that uses glove embeddings\n",
    "class LyricsVectorizer(BaseEstimator):\n",
    "    def __init__(self, word_vec_dim=\"100d\", method=\"mean\"):\n",
    "        self.word_vectors = GLOVE_MODELS[word_vec_dim]\n",
    "        self.word_vec_dim = word_vec_dim\n",
    "        self.method = method\n",
    "\n",
    "    def fit(self, X, y=None):\n",
    "        return self\n",
    "\n",
    "    def _transform(self, data):\n",
    "        # determine the dimensionality of vectors\n",
    "        vec = np.zeros(self.word_vectors.vector_size)\n",
    "        \n",
    "        if type(data) == list:\n",
    "            #print(\"Data is tokenized\")\n",
    "            tokenized = True\n",
    "        elif type(data) == str:\n",
    "            #print(\"Data is non-tokenized string\")\n",
    "            tokenized = False\n",
    "        else:\n",
    "            print(\"Not recognized data type\")\n",
    "            return None\n",
    "        \n",
    "        if tokenized:\n",
    "            tokens = data\n",
    "        else:\n",
    "            tokens = data.split()\n",
    "        vecs = []\n",
    "        for word in tokens:\n",
    "            try:\n",
    "                # throws KeyError if word not found\n",
    "                word_embed = self.word_vectors.get_vector(word)\n",
    "                vecs.append(word_embed)\n",
    "            except KeyError:\n",
    "                pass\n",
    "        if len(vecs) > 0:\n",
    "            vecs = np.array(vecs)\n",
    "            if self.method == \"mean\":\n",
    "                vec = vecs.mean(axis=0) # lyrics embedding = mean over all words\n",
    "            else:\n",
    "                vec = vecs.sum(axis=0) # lyrics embedding = sum over all words\n",
    "            # maybe consider concatenation?\n",
    "        return vec\n",
    "    \n",
    "    def transform(self, X):\n",
    "        return np.concatenate(\n",
    "            [self._transform(row).reshape(1, -1) for row in X]\n",
    "            )\n",
    "    \n",
    "    def get_params(self, deep=True):\n",
    "        result = {\"word_vec_dim\": self.word_vec_dim, \"method\": self.method}\n",
    "        return result"
   ]
  },
  {
   "cell_type": "code",
   "execution_count": 10,
   "metadata": {},
   "outputs": [
    {
     "name": "stdout",
     "output_type": "stream",
     "text": [
      "Coding of labels into a one-hot vector, e.g.: \n",
      "country -> [0 1 0 0 0 0 0 0]\n",
      "reggae  -> [0 0 0 0 0 0 1 0]\n",
      "disco   -> [0 0 1 0 0 0 0 0]\n"
     ]
    }
   ],
   "source": [
    "from sklearn.preprocessing import LabelBinarizer\n",
    "\n",
    "# Renaming, Input -> X, Output -> y\n",
    "#X_tf_train = df_train['lyrics']\n",
    "#X_tf_test = df_test['lyrics']\n",
    "X_tf_train = df_train['lemmatized'].apply(' '.join)\n",
    "X_tf_test = df_test['lemmatized'].apply(' '.join)\n",
    "\n",
    "# Convert labels into a one-hot vector (length = number of genres)\n",
    "lab = LabelBinarizer()\n",
    "lab.fit(df_train['genre'])\n",
    "y_tf_train = lab.transform(df_train['genre'])\n",
    "y_tf_test = lab.transform(df_test['genre'])\n",
    "\n",
    "# Example (you can modify n)\n",
    "print('Coding of labels into a one-hot vector, e.g.: ')\n",
    "print(df_train['genre'][0], '->', y_tf_train[0])\n",
    "print(df_train['genre'][1], ' ->', y_tf_train[1])\n",
    "print(df_train['genre'][2], '  ->', y_tf_train[2])"
   ]
  },
  {
   "cell_type": "code",
   "execution_count": 11,
   "metadata": {},
   "outputs": [],
   "source": [
    "corpus = X_tf_train\n",
    "max_words = 20000\n",
    "tokenizer = kprocessing.text.Tokenizer(lower=True, split=' ', num_words=max_words, oov_token=\"<pad>\", filters='!\"#$%&()*+,-./:;<=>?@[\\\\]^_`{|}~\\t\\n')\n",
    "tokenizer.fit_on_texts(corpus)\n",
    "voc = tokenizer.word_index\n",
    "reverse_voc = dict([(value, key) for (key, value) in voc.items()])"
   ]
  },
  {
   "cell_type": "code",
   "execution_count": 46,
   "metadata": {},
   "outputs": [
    {
     "name": "stdout",
     "output_type": "stream",
     "text": [
      "Shape:  (609, 300)\n",
      "Example:  [   0    0    0    0    0    0    0    0    0    0    0    0    0    0\n",
      "    0    0    0    0    0    0    0    0    0    0    0    0    0    0\n",
      "    0    0    0    0    0    0    0    0    0    0    0    0    0    0\n",
      "    0    0    0    0    0    0    0    0    0    0    0    0    0    0\n",
      "    0    0    0    0    0    0    0    0    0    0    0    0    0    0\n",
      "    0    0    0    0    0    0    0    0    0    0    0    0    0    0\n",
      "    0    0    0    0    0    0    0    0    0    0    0    0    0    0\n",
      "    0    0    0    0    0    0    0    0    0    0    0    0    0    0\n",
      "    0    0    0    0    0    0    0    0    0    0    0    0    0    0\n",
      "    0    0    0    0    0    0    0    0    0    0    0    0    0    0\n",
      "    0    0    0    0    0    0    0    0    0    0    0    0    0    0\n",
      "    0    0    0    0    0    0    0    0    0    0    0    0    0    0\n",
      "    0    0    0    0    0    0    0    0    0    0    0    0    0    0\n",
      "    0    0    0    0    0    0    0    0    0    0    0    0    0    0\n",
      "    0    0    0   24  873 1563 1022  758  328 4351   90   81  114   11\n",
      " 1083  299 1431    2 4352 2552 1150   35   11  617  509  136  315 4353\n",
      "  265  114  269  269 1902  269 1023  114 2163  268  153 1564   40  273\n",
      "  140   22  492   77  155  395  239  431   76   13  316   27  136   69\n",
      "   14 1903  493  557  396 1432  420   30   41   31   66  470  283   24\n",
      "   11 1151  114 4354  329 3143   59   82 1565 1566 1235  220   10  246\n",
      "  558   26 2163 4355   10  874    2  252 2553    2   82  450  114   11\n",
      "  369  344  451   40   82   11]\n"
     ]
    }
   ],
   "source": [
    "max_len = 300\n",
    "\n",
    "sequences = tokenizer.texts_to_sequences(X_tf_train)\n",
    "X_tf_train_seq = kprocessing.sequence.pad_sequences(sequences, maxlen=max_len)\n",
    "\n",
    "# Apply the same to test data\n",
    "X_tf_test_seq = kprocessing.sequence.pad_sequences(tokenizer.texts_to_sequences(X_tf_test), maxlen=max_len)\n",
    "\n",
    "n=0 # You can adjust n\n",
    "print('Shape: ',X_tf_train_seq.shape)\n",
    "print('Example: ',X_tf_train_seq[n,:])"
   ]
  },
  {
   "cell_type": "code",
   "execution_count": 47,
   "metadata": {},
   "outputs": [
    {
     "name": "stdout",
     "output_type": "stream",
     "text": [
      "(7660, 300)\n"
     ]
    }
   ],
   "source": [
    "glove = GLOVE_MODELS[\"300d\"]\n",
    "corpus_len = len(reverse_voc)\n",
    "emb_matrix=np.zeros((corpus_len+1, glove.vector_size))\n",
    "\n",
    "for i in range(corpus_len):\n",
    "    w = reverse_voc[i+1]\n",
    "    try:\n",
    "        # throws KeyError if word not found\n",
    "        emb_matrix[i+1,:] = glove.get_vector(w)\n",
    "    except KeyError:\n",
    "        pass\n",
    "    \n",
    "emb_size = emb_matrix.shape[1]\n",
    "print(emb_matrix.shape)"
   ]
  },
  {
   "cell_type": "code",
   "execution_count": 88,
   "metadata": {},
   "outputs": [],
   "source": [
    "input_ = layers.Input(shape = X_tf_train_seq[0,:].shape, name='input')\n",
    "\n",
    "# Embedding layer (voc size plus pad token (with index 0), using the pre-trained emb_matrix obtained from glove\n",
    "x = layers.Embedding(corpus_len+1, emb_size, weights=[emb_matrix], trainable=False, name='embedding')(input_)\n",
    "x = layers.Bidirectional(layers.LSTM(32,dropout=0.2,return_sequences=True), name='bidirectional-lstm1')(x) # LSTM layer 1\n",
    "x = layers.Bidirectional(layers.LSTM(64,dropout=0.2), name='bidirectional-lstm2')(x) # LSTM layer 2\n",
    "x = layers.Dropout(0.2, name='dropout')(x)\n",
    "x = layers.Dense(128, activation='relu', name='dense')(x)\n",
    "output = layers.Dense(df_train['genre'].nunique(), activation='softmax', name='classification')(x)\n",
    "\n",
    "model = models.Model(input_, output)\n",
    "\n",
    "opt = optimizers.Adam(learning_rate=0.002)\n",
    "model.compile(optimizer=opt, loss='categorical_crossentropy', metrics=['accuracy'])"
   ]
  },
  {
   "cell_type": "code",
   "execution_count": 89,
   "metadata": {},
   "outputs": [
    {
     "name": "stdout",
     "output_type": "stream",
     "text": [
      "Model: \"model_19\"\n",
      "_________________________________________________________________\n",
      " Layer (type)                Output Shape              Param #   \n",
      "=================================================================\n",
      " input (InputLayer)          [(None, 300)]             0         \n",
      "                                                                 \n",
      " embedding (Embedding)       (None, 300, 300)          2298000   \n",
      "                                                                 \n",
      " bidirectional-lstm1 (Bidire  (None, 300, 64)          85248     \n",
      " ctional)                                                        \n",
      "                                                                 \n",
      " bidirectional-lstm2 (Bidire  (None, 128)              66048     \n",
      " ctional)                                                        \n",
      "                                                                 \n",
      " dropout (Dropout)           (None, 128)               0         \n",
      "                                                                 \n",
      " dense (Dense)               (None, 128)               16512     \n",
      "                                                                 \n",
      " classification (Dense)      (None, 8)                 1032      \n",
      "                                                                 \n",
      "=================================================================\n",
      "Total params: 2,466,840\n",
      "Trainable params: 168,840\n",
      "Non-trainable params: 2,298,000\n",
      "_________________________________________________________________\n"
     ]
    }
   ],
   "source": [
    "model.summary()"
   ]
  },
  {
   "cell_type": "code",
   "execution_count": 90,
   "metadata": {},
   "outputs": [
    {
     "name": "stdout",
     "output_type": "stream",
     "text": [
      "Epoch 1/40\n",
      "39/39 [==============================] - ETA: 0s - loss: 1.9815 - accuracy: 0.2036"
     ]
    },
    {
     "name": "stderr",
     "output_type": "stream",
     "text": [
      "WARNING:absl:Found untraced functions such as lstm_cell_133_layer_call_fn, lstm_cell_133_layer_call_and_return_conditional_losses, lstm_cell_134_layer_call_fn, lstm_cell_134_layer_call_and_return_conditional_losses, lstm_cell_136_layer_call_fn while saving (showing 5 of 8). These functions will not be directly callable after loading.\n"
     ]
    },
    {
     "name": "stdout",
     "output_type": "stream",
     "text": [
      "INFO:tensorflow:Assets written to: 300d_model/0.261_acc/assets\n"
     ]
    },
    {
     "name": "stderr",
     "output_type": "stream",
     "text": [
      "INFO:tensorflow:Assets written to: 300d_model/0.261_acc/assets\n",
      "WARNING:absl:<keras.layers.recurrent.LSTMCell object at 0x7fb60d2e6b20> has the same name 'LSTMCell' as a built-in Keras object. Consider renaming <class 'keras.layers.recurrent.LSTMCell'> to avoid naming conflicts when loading with `tf.keras.models.load_model`. If renaming is not possible, pass the object in the `custom_objects` parameter of the load function.\n",
      "WARNING:absl:<keras.layers.recurrent.LSTMCell object at 0x7fb5520e2130> has the same name 'LSTMCell' as a built-in Keras object. Consider renaming <class 'keras.layers.recurrent.LSTMCell'> to avoid naming conflicts when loading with `tf.keras.models.load_model`. If renaming is not possible, pass the object in the `custom_objects` parameter of the load function.\n",
      "WARNING:absl:<keras.layers.recurrent.LSTMCell object at 0x7fb50b8b8580> has the same name 'LSTMCell' as a built-in Keras object. Consider renaming <class 'keras.layers.recurrent.LSTMCell'> to avoid naming conflicts when loading with `tf.keras.models.load_model`. If renaming is not possible, pass the object in the `custom_objects` parameter of the load function.\n",
      "WARNING:absl:<keras.layers.recurrent.LSTMCell object at 0x7fb508d815b0> has the same name 'LSTMCell' as a built-in Keras object. Consider renaming <class 'keras.layers.recurrent.LSTMCell'> to avoid naming conflicts when loading with `tf.keras.models.load_model`. If renaming is not possible, pass the object in the `custom_objects` parameter of the load function.\n"
     ]
    },
    {
     "name": "stdout",
     "output_type": "stream",
     "text": [
      "39/39 [==============================] - 31s 672ms/step - loss: 1.9815 - accuracy: 0.2036 - val_loss: 1.9475 - val_accuracy: 0.2614\n",
      "Epoch 2/40\n",
      "39/39 [==============================] - ETA: 0s - loss: 1.8193 - accuracy: 0.3021"
     ]
    },
    {
     "name": "stderr",
     "output_type": "stream",
     "text": [
      "WARNING:absl:Found untraced functions such as lstm_cell_133_layer_call_fn, lstm_cell_133_layer_call_and_return_conditional_losses, lstm_cell_134_layer_call_fn, lstm_cell_134_layer_call_and_return_conditional_losses, lstm_cell_136_layer_call_fn while saving (showing 5 of 8). These functions will not be directly callable after loading.\n"
     ]
    },
    {
     "name": "stdout",
     "output_type": "stream",
     "text": [
      "INFO:tensorflow:Assets written to: 300d_model/0.301_acc/assets\n"
     ]
    },
    {
     "name": "stderr",
     "output_type": "stream",
     "text": [
      "INFO:tensorflow:Assets written to: 300d_model/0.301_acc/assets\n",
      "WARNING:absl:<keras.layers.recurrent.LSTMCell object at 0x7fb60d2e6b20> has the same name 'LSTMCell' as a built-in Keras object. Consider renaming <class 'keras.layers.recurrent.LSTMCell'> to avoid naming conflicts when loading with `tf.keras.models.load_model`. If renaming is not possible, pass the object in the `custom_objects` parameter of the load function.\n",
      "WARNING:absl:<keras.layers.recurrent.LSTMCell object at 0x7fb5520e2130> has the same name 'LSTMCell' as a built-in Keras object. Consider renaming <class 'keras.layers.recurrent.LSTMCell'> to avoid naming conflicts when loading with `tf.keras.models.load_model`. If renaming is not possible, pass the object in the `custom_objects` parameter of the load function.\n",
      "WARNING:absl:<keras.layers.recurrent.LSTMCell object at 0x7fb50b8b8580> has the same name 'LSTMCell' as a built-in Keras object. Consider renaming <class 'keras.layers.recurrent.LSTMCell'> to avoid naming conflicts when loading with `tf.keras.models.load_model`. If renaming is not possible, pass the object in the `custom_objects` parameter of the load function.\n",
      "WARNING:absl:<keras.layers.recurrent.LSTMCell object at 0x7fb508d815b0> has the same name 'LSTMCell' as a built-in Keras object. Consider renaming <class 'keras.layers.recurrent.LSTMCell'> to avoid naming conflicts when loading with `tf.keras.models.load_model`. If renaming is not possible, pass the object in the `custom_objects` parameter of the load function.\n"
     ]
    },
    {
     "name": "stdout",
     "output_type": "stream",
     "text": [
      "39/39 [==============================] - 24s 623ms/step - loss: 1.8193 - accuracy: 0.3021 - val_loss: 1.8511 - val_accuracy: 0.3007\n",
      "Epoch 3/40\n",
      "39/39 [==============================] - 10s 257ms/step - loss: 1.5976 - accuracy: 0.4450 - val_loss: 1.9239 - val_accuracy: 0.3007\n",
      "Epoch 4/40\n",
      "39/39 [==============================] - ETA: 0s - loss: 1.3746 - accuracy: 0.5156"
     ]
    },
    {
     "name": "stderr",
     "output_type": "stream",
     "text": [
      "WARNING:absl:Found untraced functions such as lstm_cell_133_layer_call_fn, lstm_cell_133_layer_call_and_return_conditional_losses, lstm_cell_134_layer_call_fn, lstm_cell_134_layer_call_and_return_conditional_losses, lstm_cell_136_layer_call_fn while saving (showing 5 of 8). These functions will not be directly callable after loading.\n"
     ]
    },
    {
     "name": "stdout",
     "output_type": "stream",
     "text": [
      "INFO:tensorflow:Assets written to: 300d_model/0.386_acc/assets\n"
     ]
    },
    {
     "name": "stderr",
     "output_type": "stream",
     "text": [
      "INFO:tensorflow:Assets written to: 300d_model/0.386_acc/assets\n",
      "WARNING:absl:<keras.layers.recurrent.LSTMCell object at 0x7fb60d2e6b20> has the same name 'LSTMCell' as a built-in Keras object. Consider renaming <class 'keras.layers.recurrent.LSTMCell'> to avoid naming conflicts when loading with `tf.keras.models.load_model`. If renaming is not possible, pass the object in the `custom_objects` parameter of the load function.\n",
      "WARNING:absl:<keras.layers.recurrent.LSTMCell object at 0x7fb5520e2130> has the same name 'LSTMCell' as a built-in Keras object. Consider renaming <class 'keras.layers.recurrent.LSTMCell'> to avoid naming conflicts when loading with `tf.keras.models.load_model`. If renaming is not possible, pass the object in the `custom_objects` parameter of the load function.\n",
      "WARNING:absl:<keras.layers.recurrent.LSTMCell object at 0x7fb50b8b8580> has the same name 'LSTMCell' as a built-in Keras object. Consider renaming <class 'keras.layers.recurrent.LSTMCell'> to avoid naming conflicts when loading with `tf.keras.models.load_model`. If renaming is not possible, pass the object in the `custom_objects` parameter of the load function.\n",
      "WARNING:absl:<keras.layers.recurrent.LSTMCell object at 0x7fb508d815b0> has the same name 'LSTMCell' as a built-in Keras object. Consider renaming <class 'keras.layers.recurrent.LSTMCell'> to avoid naming conflicts when loading with `tf.keras.models.load_model`. If renaming is not possible, pass the object in the `custom_objects` parameter of the load function.\n"
     ]
    },
    {
     "name": "stdout",
     "output_type": "stream",
     "text": [
      "39/39 [==============================] - 27s 713ms/step - loss: 1.3746 - accuracy: 0.5156 - val_loss: 1.8324 - val_accuracy: 0.3856\n",
      "Epoch 5/40\n",
      "39/39 [==============================] - 9s 242ms/step - loss: 1.3302 - accuracy: 0.5123 - val_loss: 1.8940 - val_accuracy: 0.3725\n",
      "Epoch 6/40\n",
      "39/39 [==============================] - 10s 260ms/step - loss: 1.0893 - accuracy: 0.6108 - val_loss: 1.8104 - val_accuracy: 0.3791\n",
      "Epoch 7/40\n",
      "39/39 [==============================] - 10s 254ms/step - loss: 0.8064 - accuracy: 0.7225 - val_loss: 1.9704 - val_accuracy: 0.3725\n",
      "Epoch 8/40\n",
      "39/39 [==============================] - ETA: 0s - loss: 0.6067 - accuracy: 0.7816"
     ]
    },
    {
     "name": "stderr",
     "output_type": "stream",
     "text": [
      "WARNING:absl:Found untraced functions such as lstm_cell_133_layer_call_fn, lstm_cell_133_layer_call_and_return_conditional_losses, lstm_cell_134_layer_call_fn, lstm_cell_134_layer_call_and_return_conditional_losses, lstm_cell_136_layer_call_fn while saving (showing 5 of 8). These functions will not be directly callable after loading.\n"
     ]
    },
    {
     "name": "stdout",
     "output_type": "stream",
     "text": [
      "INFO:tensorflow:Assets written to: 300d_model/0.418_acc/assets\n"
     ]
    },
    {
     "name": "stderr",
     "output_type": "stream",
     "text": [
      "INFO:tensorflow:Assets written to: 300d_model/0.418_acc/assets\n",
      "WARNING:absl:<keras.layers.recurrent.LSTMCell object at 0x7fb60d2e6b20> has the same name 'LSTMCell' as a built-in Keras object. Consider renaming <class 'keras.layers.recurrent.LSTMCell'> to avoid naming conflicts when loading with `tf.keras.models.load_model`. If renaming is not possible, pass the object in the `custom_objects` parameter of the load function.\n",
      "WARNING:absl:<keras.layers.recurrent.LSTMCell object at 0x7fb5520e2130> has the same name 'LSTMCell' as a built-in Keras object. Consider renaming <class 'keras.layers.recurrent.LSTMCell'> to avoid naming conflicts when loading with `tf.keras.models.load_model`. If renaming is not possible, pass the object in the `custom_objects` parameter of the load function.\n",
      "WARNING:absl:<keras.layers.recurrent.LSTMCell object at 0x7fb50b8b8580> has the same name 'LSTMCell' as a built-in Keras object. Consider renaming <class 'keras.layers.recurrent.LSTMCell'> to avoid naming conflicts when loading with `tf.keras.models.load_model`. If renaming is not possible, pass the object in the `custom_objects` parameter of the load function.\n",
      "WARNING:absl:<keras.layers.recurrent.LSTMCell object at 0x7fb508d815b0> has the same name 'LSTMCell' as a built-in Keras object. Consider renaming <class 'keras.layers.recurrent.LSTMCell'> to avoid naming conflicts when loading with `tf.keras.models.load_model`. If renaming is not possible, pass the object in the `custom_objects` parameter of the load function.\n"
     ]
    },
    {
     "name": "stdout",
     "output_type": "stream",
     "text": [
      "39/39 [==============================] - 27s 707ms/step - loss: 0.6067 - accuracy: 0.7816 - val_loss: 2.1116 - val_accuracy: 0.4183\n",
      "Epoch 9/40\n",
      "39/39 [==============================] - ETA: 0s - loss: 0.4807 - accuracy: 0.8456"
     ]
    },
    {
     "name": "stderr",
     "output_type": "stream",
     "text": [
      "WARNING:absl:Found untraced functions such as lstm_cell_133_layer_call_fn, lstm_cell_133_layer_call_and_return_conditional_losses, lstm_cell_134_layer_call_fn, lstm_cell_134_layer_call_and_return_conditional_losses, lstm_cell_136_layer_call_fn while saving (showing 5 of 8). These functions will not be directly callable after loading.\n"
     ]
    },
    {
     "name": "stdout",
     "output_type": "stream",
     "text": [
      "INFO:tensorflow:Assets written to: 300d_model/0.438_acc/assets\n"
     ]
    },
    {
     "name": "stderr",
     "output_type": "stream",
     "text": [
      "INFO:tensorflow:Assets written to: 300d_model/0.438_acc/assets\n",
      "WARNING:absl:<keras.layers.recurrent.LSTMCell object at 0x7fb60d2e6b20> has the same name 'LSTMCell' as a built-in Keras object. Consider renaming <class 'keras.layers.recurrent.LSTMCell'> to avoid naming conflicts when loading with `tf.keras.models.load_model`. If renaming is not possible, pass the object in the `custom_objects` parameter of the load function.\n",
      "WARNING:absl:<keras.layers.recurrent.LSTMCell object at 0x7fb5520e2130> has the same name 'LSTMCell' as a built-in Keras object. Consider renaming <class 'keras.layers.recurrent.LSTMCell'> to avoid naming conflicts when loading with `tf.keras.models.load_model`. If renaming is not possible, pass the object in the `custom_objects` parameter of the load function.\n",
      "WARNING:absl:<keras.layers.recurrent.LSTMCell object at 0x7fb50b8b8580> has the same name 'LSTMCell' as a built-in Keras object. Consider renaming <class 'keras.layers.recurrent.LSTMCell'> to avoid naming conflicts when loading with `tf.keras.models.load_model`. If renaming is not possible, pass the object in the `custom_objects` parameter of the load function.\n",
      "WARNING:absl:<keras.layers.recurrent.LSTMCell object at 0x7fb508d815b0> has the same name 'LSTMCell' as a built-in Keras object. Consider renaming <class 'keras.layers.recurrent.LSTMCell'> to avoid naming conflicts when loading with `tf.keras.models.load_model`. If renaming is not possible, pass the object in the `custom_objects` parameter of the load function.\n"
     ]
    },
    {
     "name": "stdout",
     "output_type": "stream",
     "text": [
      "39/39 [==============================] - 27s 694ms/step - loss: 0.4807 - accuracy: 0.8456 - val_loss: 2.2936 - val_accuracy: 0.4379\n",
      "Epoch 10/40\n",
      "39/39 [==============================] - 10s 251ms/step - loss: 0.3809 - accuracy: 0.8719 - val_loss: 2.6475 - val_accuracy: 0.4052\n",
      "Epoch 11/40\n",
      "39/39 [==============================] - 10s 256ms/step - loss: 0.2770 - accuracy: 0.9048 - val_loss: 2.8444 - val_accuracy: 0.3660\n",
      "Epoch 12/40\n",
      "39/39 [==============================] - 11s 281ms/step - loss: 0.3563 - accuracy: 0.8785 - val_loss: 2.7272 - val_accuracy: 0.3922\n",
      "Epoch 13/40\n",
      "39/39 [==============================] - 11s 277ms/step - loss: 0.2511 - accuracy: 0.9146 - val_loss: 2.8808 - val_accuracy: 0.4118\n",
      "Epoch 14/40\n",
      "39/39 [==============================] - 11s 270ms/step - loss: 0.3147 - accuracy: 0.9146 - val_loss: 3.0507 - val_accuracy: 0.3922\n",
      "Epoch 15/40\n",
      "39/39 [==============================] - 11s 276ms/step - loss: 0.1772 - accuracy: 0.9409 - val_loss: 2.8807 - val_accuracy: 0.4248\n",
      "Epoch 16/40\n",
      "39/39 [==============================] - 10s 266ms/step - loss: 0.1131 - accuracy: 0.9639 - val_loss: 3.2870 - val_accuracy: 0.3660\n",
      "Epoch 17/40\n",
      "39/39 [==============================] - 10s 269ms/step - loss: 0.0747 - accuracy: 0.9754 - val_loss: 3.4807 - val_accuracy: 0.4052\n",
      "Epoch 18/40\n",
      "39/39 [==============================] - 11s 270ms/step - loss: 0.0565 - accuracy: 0.9803 - val_loss: 3.6857 - val_accuracy: 0.4052\n",
      "Epoch 19/40\n",
      "39/39 [==============================] - 11s 273ms/step - loss: 0.3321 - accuracy: 0.8998 - val_loss: 2.8075 - val_accuracy: 0.3987\n",
      "Epoch 20/40\n",
      "39/39 [==============================] - 11s 272ms/step - loss: 0.0951 - accuracy: 0.9754 - val_loss: 3.2591 - val_accuracy: 0.4118\n",
      "Epoch 21/40\n",
      "39/39 [==============================] - 10s 267ms/step - loss: 0.0599 - accuracy: 0.9836 - val_loss: 3.6529 - val_accuracy: 0.4052\n",
      "Epoch 22/40\n",
      "39/39 [==============================] - ETA: 0s - loss: 0.0268 - accuracy: 0.9934"
     ]
    },
    {
     "name": "stderr",
     "output_type": "stream",
     "text": [
      "WARNING:absl:Found untraced functions such as lstm_cell_133_layer_call_fn, lstm_cell_133_layer_call_and_return_conditional_losses, lstm_cell_134_layer_call_fn, lstm_cell_134_layer_call_and_return_conditional_losses, lstm_cell_136_layer_call_fn while saving (showing 5 of 8). These functions will not be directly callable after loading.\n"
     ]
    },
    {
     "name": "stdout",
     "output_type": "stream",
     "text": [
      "INFO:tensorflow:Assets written to: 300d_model/0.444_acc/assets\n"
     ]
    },
    {
     "name": "stderr",
     "output_type": "stream",
     "text": [
      "INFO:tensorflow:Assets written to: 300d_model/0.444_acc/assets\n",
      "WARNING:absl:<keras.layers.recurrent.LSTMCell object at 0x7fb60d2e6b20> has the same name 'LSTMCell' as a built-in Keras object. Consider renaming <class 'keras.layers.recurrent.LSTMCell'> to avoid naming conflicts when loading with `tf.keras.models.load_model`. If renaming is not possible, pass the object in the `custom_objects` parameter of the load function.\n",
      "WARNING:absl:<keras.layers.recurrent.LSTMCell object at 0x7fb5520e2130> has the same name 'LSTMCell' as a built-in Keras object. Consider renaming <class 'keras.layers.recurrent.LSTMCell'> to avoid naming conflicts when loading with `tf.keras.models.load_model`. If renaming is not possible, pass the object in the `custom_objects` parameter of the load function.\n",
      "WARNING:absl:<keras.layers.recurrent.LSTMCell object at 0x7fb50b8b8580> has the same name 'LSTMCell' as a built-in Keras object. Consider renaming <class 'keras.layers.recurrent.LSTMCell'> to avoid naming conflicts when loading with `tf.keras.models.load_model`. If renaming is not possible, pass the object in the `custom_objects` parameter of the load function.\n",
      "WARNING:absl:<keras.layers.recurrent.LSTMCell object at 0x7fb508d815b0> has the same name 'LSTMCell' as a built-in Keras object. Consider renaming <class 'keras.layers.recurrent.LSTMCell'> to avoid naming conflicts when loading with `tf.keras.models.load_model`. If renaming is not possible, pass the object in the `custom_objects` parameter of the load function.\n"
     ]
    },
    {
     "name": "stdout",
     "output_type": "stream",
     "text": [
      "39/39 [==============================] - 27s 712ms/step - loss: 0.0268 - accuracy: 0.9934 - val_loss: 3.6285 - val_accuracy: 0.4444\n",
      "Epoch 23/40\n",
      "39/39 [==============================] - 10s 262ms/step - loss: 0.0283 - accuracy: 0.9934 - val_loss: 3.7534 - val_accuracy: 0.4379\n",
      "Epoch 24/40\n",
      "39/39 [==============================] - 11s 272ms/step - loss: 0.0477 - accuracy: 0.9852 - val_loss: 3.8860 - val_accuracy: 0.3595\n",
      "Epoch 25/40\n",
      "39/39 [==============================] - 11s 276ms/step - loss: 0.3718 - accuracy: 0.8949 - val_loss: 2.9486 - val_accuracy: 0.3922\n",
      "Epoch 26/40\n",
      "39/39 [==============================] - 11s 291ms/step - loss: 0.1342 - accuracy: 0.9540 - val_loss: 3.5740 - val_accuracy: 0.3464\n",
      "Epoch 27/40\n",
      "39/39 [==============================] - 11s 294ms/step - loss: 0.0635 - accuracy: 0.9869 - val_loss: 3.7743 - val_accuracy: 0.4052\n",
      "Epoch 28/40\n",
      "39/39 [==============================] - 11s 282ms/step - loss: 0.0754 - accuracy: 0.9770 - val_loss: 3.7831 - val_accuracy: 0.4118\n",
      "Epoch 29/40\n",
      "39/39 [==============================] - 11s 285ms/step - loss: 0.1096 - accuracy: 0.9655 - val_loss: 3.5536 - val_accuracy: 0.4248\n",
      "Epoch 30/40\n",
      "39/39 [==============================] - 10s 269ms/step - loss: 0.0528 - accuracy: 0.9852 - val_loss: 3.6249 - val_accuracy: 0.4314\n",
      "Epoch 31/40\n",
      "39/39 [==============================] - 11s 272ms/step - loss: 0.0580 - accuracy: 0.9803 - val_loss: 3.7850 - val_accuracy: 0.4314\n",
      "Epoch 32/40\n",
      "39/39 [==============================] - 11s 281ms/step - loss: 0.1893 - accuracy: 0.9392 - val_loss: 3.7119 - val_accuracy: 0.4183\n",
      "Epoch 33/40\n",
      "39/39 [==============================] - 10s 268ms/step - loss: 0.0823 - accuracy: 0.9754 - val_loss: 3.6545 - val_accuracy: 0.4379\n",
      "Epoch 34/40\n",
      "39/39 [==============================] - 12s 299ms/step - loss: 0.0496 - accuracy: 0.9901 - val_loss: 3.7315 - val_accuracy: 0.4314\n",
      "Epoch 35/40\n",
      "39/39 [==============================] - 11s 291ms/step - loss: 0.0201 - accuracy: 0.9967 - val_loss: 3.9284 - val_accuracy: 0.4379\n",
      "Epoch 36/40\n",
      "39/39 [==============================] - ETA: 0s - loss: 0.0141 - accuracy: 0.9967"
     ]
    },
    {
     "name": "stderr",
     "output_type": "stream",
     "text": [
      "WARNING:absl:Found untraced functions such as lstm_cell_133_layer_call_fn, lstm_cell_133_layer_call_and_return_conditional_losses, lstm_cell_134_layer_call_fn, lstm_cell_134_layer_call_and_return_conditional_losses, lstm_cell_136_layer_call_fn while saving (showing 5 of 8). These functions will not be directly callable after loading.\n"
     ]
    },
    {
     "name": "stdout",
     "output_type": "stream",
     "text": [
      "INFO:tensorflow:Assets written to: 300d_model/0.458_acc/assets\n"
     ]
    },
    {
     "name": "stderr",
     "output_type": "stream",
     "text": [
      "INFO:tensorflow:Assets written to: 300d_model/0.458_acc/assets\n",
      "WARNING:absl:<keras.layers.recurrent.LSTMCell object at 0x7fb60d2e6b20> has the same name 'LSTMCell' as a built-in Keras object. Consider renaming <class 'keras.layers.recurrent.LSTMCell'> to avoid naming conflicts when loading with `tf.keras.models.load_model`. If renaming is not possible, pass the object in the `custom_objects` parameter of the load function.\n",
      "WARNING:absl:<keras.layers.recurrent.LSTMCell object at 0x7fb5520e2130> has the same name 'LSTMCell' as a built-in Keras object. Consider renaming <class 'keras.layers.recurrent.LSTMCell'> to avoid naming conflicts when loading with `tf.keras.models.load_model`. If renaming is not possible, pass the object in the `custom_objects` parameter of the load function.\n",
      "WARNING:absl:<keras.layers.recurrent.LSTMCell object at 0x7fb50b8b8580> has the same name 'LSTMCell' as a built-in Keras object. Consider renaming <class 'keras.layers.recurrent.LSTMCell'> to avoid naming conflicts when loading with `tf.keras.models.load_model`. If renaming is not possible, pass the object in the `custom_objects` parameter of the load function.\n",
      "WARNING:absl:<keras.layers.recurrent.LSTMCell object at 0x7fb508d815b0> has the same name 'LSTMCell' as a built-in Keras object. Consider renaming <class 'keras.layers.recurrent.LSTMCell'> to avoid naming conflicts when loading with `tf.keras.models.load_model`. If renaming is not possible, pass the object in the `custom_objects` parameter of the load function.\n"
     ]
    },
    {
     "name": "stdout",
     "output_type": "stream",
     "text": [
      "39/39 [==============================] - 29s 746ms/step - loss: 0.0141 - accuracy: 0.9967 - val_loss: 3.9417 - val_accuracy: 0.4575\n",
      "Epoch 37/40\n",
      "39/39 [==============================] - 10s 267ms/step - loss: 0.0067 - accuracy: 1.0000 - val_loss: 4.0816 - val_accuracy: 0.4510\n",
      "Epoch 38/40\n",
      "39/39 [==============================] - 11s 277ms/step - loss: 0.0140 - accuracy: 0.9951 - val_loss: 4.2291 - val_accuracy: 0.4444\n",
      "Epoch 39/40\n",
      "39/39 [==============================] - 10s 269ms/step - loss: 0.0398 - accuracy: 0.9885 - val_loss: 4.1773 - val_accuracy: 0.4183\n",
      "Epoch 40/40\n",
      "39/39 [==============================] - 11s 283ms/step - loss: 0.0476 - accuracy: 0.9836 - val_loss: 4.2446 - val_accuracy: 0.3856\n"
     ]
    }
   ],
   "source": [
    "start_time = datetime.now()\n",
    "\n",
    "early_stopping = tf.keras.callbacks.EarlyStopping(monitor='loss', patience=3)\n",
    "checkpoint_cb = tf.keras.callbacks.ModelCheckpoint(\n",
    "    filepath=\"300d_model/{val_accuracy:.3f}_acc\",\n",
    "    monitor='val_accuracy',\n",
    "    mode='max',\n",
    "    save_weights_only=False,\n",
    "    save_best_only=True)\n",
    "\n",
    "history = model.fit(X_tf_train_seq, y_tf_train, batch_size=16, shuffle=True, epochs=40, callbacks=[checkpoint_cb], validation_data=(X_tf_test_seq, y_tf_test))\n",
    "end_time = datetime.now()\n",
    "\n",
    "training_time_rnn = (end_time - start_time).total_seconds()"
   ]
  },
  {
   "cell_type": "code",
   "execution_count": 45,
   "metadata": {},
   "outputs": [
    {
     "name": "stdout",
     "output_type": "stream",
     "text": [
      "\n",
      "Accuracy Training data:  98.69%\n",
      "Accuracy Test data:      48.37%\n",
      "Training time: 174.0 sec\n",
      "\n"
     ]
    },
    {
     "data": {
      "image/png": "[encoded data removed]",
      "text/plain": [
       "<Figure size 1080x360 with 2 Axes>"
      ]
     },
     "metadata": {},
     "output_type": "display_data"
    },
    {
     "data": {
      "image/png": "[encoded data removed]",
      "text/plain": [
       "<Figure size 576x432 with 2 Axes>"
      ]
     },
     "metadata": {},
     "output_type": "display_data"
    },
    {
     "name": "stdout",
     "output_type": "stream",
     "text": [
      "Accuracy  = 0.48366013071895425\n",
      "F1 score  = 0.4870034203170614\n",
      "Precision = 0.5001796678267266\n",
      "Recall    = 0.48366013071895425\n"
     ]
    }
   ],
   "source": [
    "fig, ax = plt.subplots(nrows=1, ncols=2, figsize=(15, 5))\n",
    "ax[0].set(title='Loss')\n",
    "ax[0].plot(history.history['loss'], label='Training data')\n",
    "ax[0].plot(history.history['val_loss'], label='Test data')\n",
    "ax[0].legend(loc=\"upper left\")\n",
    "\n",
    "ax[1].set(title='Accuracy')\n",
    "ax[1].plot(history.history['accuracy'], label='Training data')\n",
    "ax[1].plot(history.history['val_accuracy'], label='Test data')\n",
    "ax[1].legend(loc=\"upper left\")\n",
    "\n",
    "print(\"\")\n",
    "accuracy_rnn = history.history['val_accuracy'][-1]\n",
    "print('Accuracy Training data:  {:.2%}'.format(history.history['accuracy'][-1]))\n",
    "print('Accuracy Test data:      {:.2%}'.format(history.history['val_accuracy'][-1]))\n",
    "print('Training time: {:.1f} sec'.format(training_time_rnn))\n",
    "print(\"\")\n",
    "\n",
    "pred_prob = model.predict(X_tf_test_seq)\n",
    "pred = np.argmax(pred_prob, axis=1)\n",
    "pred = lab.classes_[pred].tolist()\n",
    "evaluate_classifier(df_test['genre'], pred, lab.classes_)"
   ]
  }
 ],
 "metadata": {
  "colab": {
   "authorship_tag": "ABX9TyMgh+tFz2LwV+MV/HvYXc9Z",
   "collapsed_sections": [],
   "name": "naive-bayes_word2vec.ipynb",
   "provenance": []
  },
  "kernelspec": {
   "display_name": "Python 3 (ipykernel)",
   "language": "python",
   "name": "python3"
  },
  "language_info": {
   "codemirror_mode": {
    "name": "ipython",
    "version": 3
   },
   "file_extension": ".py",
   "mimetype": "text/x-python",
   "name": "python",
   "nbconvert_exporter": "python",
   "pygments_lexer": "ipython3",
   "version": "3.9.7"
  }
 },
 "nbformat": 4,
 "nbformat_minor": 4
}
