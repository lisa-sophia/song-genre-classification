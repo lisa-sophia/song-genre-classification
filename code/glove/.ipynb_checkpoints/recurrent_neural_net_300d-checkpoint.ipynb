{
 "cells": [
  {
   "cell_type": "code",
   "execution_count": 5,
   "metadata": {
    "colab": {
     "base_uri": "https://localhost:8080/"
    },
    "executionInfo": {
     "elapsed": 17300,
     "status": "ok",
     "timestamp": 1645532044623,
     "user": {
      "displayName": "Lisa Spahn Lundgren",
      "photoUrl": "https://lh3.googleusercontent.com/a/default-user=s64",
      "userId": "13266833213640265739"
     },
     "user_tz": -60
    },
    "id": "VXak8PjjRAQW",
    "outputId": "66554787-38d7-4d5e-f838-a12226fd84fe"
   },
   "outputs": [],
   "source": [
    "import pandas as pd\n",
    "import numpy as np\n",
    "import string\n",
    "import matplotlib.pyplot as plt\n",
    "import seaborn as sns\n",
    "import os\n",
    "import tensorflow as tf\n",
    "from tensorflow.keras import preprocessing as kprocessing\n",
    "from tensorflow.keras import models, layers, optimizers\n",
    "from ast import literal_eval\n",
    "from gensim.models import KeyedVectors\n",
    "from sklearn.pipeline import Pipeline\n",
    "from sklearn.feature_extraction.text import TfidfVectorizer, CountVectorizer\n",
    "from sklearn.naive_bayes import MultinomialNB, GaussianNB\n",
    "from sklearn.ensemble import RandomForestClassifier\n",
    "from sklearn.svm import SVC\n",
    "from xgboost import XGBClassifier\n",
    "from sklearn.metrics import classification_report, accuracy_score, f1_score, recall_score, precision_score\n",
    "from sklearn.model_selection import GridSearchCV\n",
    "from sklearn.preprocessing import LabelEncoder, MinMaxScaler, StandardScaler\n",
    "from sklearn.metrics import confusion_matrix, ConfusionMatrixDisplay\n",
    "from datetime import datetime"
   ]
  },
  {
   "cell_type": "markdown",
   "metadata": {},
   "source": [
    "The RNN training parts of this notebook are based on the following:\n",
    "\n",
    "https://medium.com/@claude.feldges/text-classification-with-tf-idf-lstm-bert-a-quantitative-comparison-b8409b556cb3"
   ]
  },
  {
   "cell_type": "code",
   "execution_count": 6,
   "metadata": {},
   "outputs": [],
   "source": [
    "### functions\n",
    "\n",
    "sns.set(font_scale=1.1)\n",
    "\n",
    "RANDOM_STATE = 12345\n",
    "\n",
    "def evaluate_classifier(y_test, pred, labels=None):\n",
    "\n",
    "    fig, ax = plt.subplots(figsize=(8,6))\n",
    "    # normalize : {'true', 'pred', 'all'}, default=None\n",
    "    # Normalizes confusion matrix over the true (rows), predicted (columns) conditions or all the population. \n",
    "    # If None, confusion matrix will not be normalized.\n",
    "    cm = confusion_matrix(y_test, pred, normalize=None) \n",
    "    disp = ConfusionMatrixDisplay(confusion_matrix=cm, display_labels=labels)\n",
    "    disp.plot(ax=ax)\n",
    "    plt.grid(False)\n",
    "    plt.show()\n",
    "    \n",
    "    print(\"Accuracy  = \" + str(accuracy_score(y_true=y_test, y_pred=pred)))\n",
    "    print(\"F1 score  = \" + str(f1_score(y_true=y_test, y_pred=pred, average='weighted')))\n",
    "    print(\"Precision = \" + str(precision_score(y_true=y_test, y_pred=pred, average='weighted')))\n",
    "    print(\"Recall    = \" + str(recall_score(y_true=y_test, y_pred=pred, average='weighted')))"
   ]
  },
  {
   "cell_type": "code",
   "execution_count": 7,
   "metadata": {
    "colab": {
     "base_uri": "https://localhost:8080/"
    },
    "executionInfo": {
     "elapsed": 36270,
     "status": "ok",
     "timestamp": 1645532377931,
     "user": {
      "displayName": "Lisa Spahn Lundgren",
      "photoUrl": "https://lh3.googleusercontent.com/a/default-user=s64",
      "userId": "13266833213640265739"
     },
     "user_tz": -60
    },
    "id": "AawEopyLSAmU",
    "outputId": "1a2cd245-6593-4af2-c426-4a11edac1a1d"
   },
   "outputs": [
    {
     "data": {
      "text/html": [
       "<div>\n",
       "<style scoped>\n",
       "    .dataframe tbody tr th:only-of-type {\n",
       "        vertical-align: middle;\n",
       "    }\n",
       "\n",
       "    .dataframe tbody tr th {\n",
       "        vertical-align: top;\n",
       "    }\n",
       "\n",
       "    .dataframe thead th {\n",
       "        text-align: right;\n",
       "    }\n",
       "</style>\n",
       "<table border=\"1\" class=\"dataframe\">\n",
       "  <thead>\n",
       "    <tr style=\"text-align: right;\">\n",
       "      <th></th>\n",
       "      <th>filename</th>\n",
       "      <th>artist</th>\n",
       "      <th>title</th>\n",
       "      <th>genre</th>\n",
       "      <th>lyrics</th>\n",
       "      <th>instrumental</th>\n",
       "      <th>tokenized</th>\n",
       "      <th>lemmatized</th>\n",
       "    </tr>\n",
       "  </thead>\n",
       "  <tbody>\n",
       "    <tr>\n",
       "      <th>0</th>\n",
       "      <td>country.00041.wav</td>\n",
       "      <td>Johnny Cash</td>\n",
       "      <td>Goin' By The Book</td>\n",
       "      <td>country</td>\n",
       "      <td>\\nYou can see it in the movies and the paper a...</td>\n",
       "      <td>False</td>\n",
       "      <td>['see', 'movies', 'paper', 'tv', 'news', 'some...</td>\n",
       "      <td>[see, movie, paper, tv, news, somebody, army, ...</td>\n",
       "    </tr>\n",
       "    <tr>\n",
       "      <th>1</th>\n",
       "      <td>reggae.00038.wav</td>\n",
       "      <td>Burning Spear</td>\n",
       "      <td>Investigation Dub</td>\n",
       "      <td>reggae</td>\n",
       "      <td>I and I old I know\\nI and I old I say\\nI and I...</td>\n",
       "      <td>False</td>\n",
       "      <td>['old', 'know', 'old', 'say', 'reconsider', 's...</td>\n",
       "      <td>[old, know, old, say, reconsider, see, upfully...</td>\n",
       "    </tr>\n",
       "    <tr>\n",
       "      <th>2</th>\n",
       "      <td>disco.00070.wav</td>\n",
       "      <td>KC and The Sunshine Band</td>\n",
       "      <td>That's The Way (I Like It)</td>\n",
       "      <td>disco</td>\n",
       "      <td>That's the way, aha, aha\\nI like it, aha, aha\\...</td>\n",
       "      <td>False</td>\n",
       "      <td>['thats', 'way', 'aha', 'aha', 'like', 'aha', ...</td>\n",
       "      <td>[thats, way, aha, aha, like, aha, aha, thats, ...</td>\n",
       "    </tr>\n",
       "    <tr>\n",
       "      <th>3</th>\n",
       "      <td>reggae.00088.wav</td>\n",
       "      <td>Marcia Griffiths</td>\n",
       "      <td>Electric Boogie</td>\n",
       "      <td>reggae</td>\n",
       "      <td>\\nIt's electric!\\n\\n\\nYou can't see it\\nIt's e...</td>\n",
       "      <td>False</td>\n",
       "      <td>['electric', 'cant', 'see', 'electric', 'got',...</td>\n",
       "      <td>[electric, cant, see, electric, get, ta, feel,...</td>\n",
       "    </tr>\n",
       "    <tr>\n",
       "      <th>4</th>\n",
       "      <td>pop.00017.wav</td>\n",
       "      <td>Britney Spears</td>\n",
       "      <td>(I Can't Get No) Satisfaction</td>\n",
       "      <td>pop</td>\n",
       "      <td>\\nI can't get no satisfaction\\nI can't get no ...</td>\n",
       "      <td>False</td>\n",
       "      <td>['cant', 'get', 'satisfaction', 'cant', 'get',...</td>\n",
       "      <td>[cant, get, satisfaction, cant, get, satisfact...</td>\n",
       "    </tr>\n",
       "  </tbody>\n",
       "</table>\n",
       "</div>"
      ],
      "text/plain": [
       "            filename                    artist                          title  \\\n",
       "0  country.00041.wav               Johnny Cash              Goin' By The Book   \n",
       "1   reggae.00038.wav             Burning Spear              Investigation Dub   \n",
       "2    disco.00070.wav  KC and The Sunshine Band     That's The Way (I Like It)   \n",
       "3   reggae.00088.wav          Marcia Griffiths                Electric Boogie   \n",
       "4      pop.00017.wav            Britney Spears  (I Can't Get No) Satisfaction   \n",
       "\n",
       "     genre                                             lyrics  instrumental  \\\n",
       "0  country  \\nYou can see it in the movies and the paper a...         False   \n",
       "1   reggae  I and I old I know\\nI and I old I say\\nI and I...         False   \n",
       "2    disco  That's the way, aha, aha\\nI like it, aha, aha\\...         False   \n",
       "3   reggae  \\nIt's electric!\\n\\n\\nYou can't see it\\nIt's e...         False   \n",
       "4      pop  \\nI can't get no satisfaction\\nI can't get no ...         False   \n",
       "\n",
       "                                           tokenized  \\\n",
       "0  ['see', 'movies', 'paper', 'tv', 'news', 'some...   \n",
       "1  ['old', 'know', 'old', 'say', 'reconsider', 's...   \n",
       "2  ['thats', 'way', 'aha', 'aha', 'like', 'aha', ...   \n",
       "3  ['electric', 'cant', 'see', 'electric', 'got',...   \n",
       "4  ['cant', 'get', 'satisfaction', 'cant', 'get',...   \n",
       "\n",
       "                                          lemmatized  \n",
       "0  [see, movie, paper, tv, news, somebody, army, ...  \n",
       "1  [old, know, old, say, reconsider, see, upfully...  \n",
       "2  [thats, way, aha, aha, like, aha, aha, thats, ...  \n",
       "3  [electric, cant, see, electric, get, ta, feel,...  \n",
       "4  [cant, get, satisfaction, cant, get, satisfact...  "
      ]
     },
     "execution_count": 7,
     "metadata": {},
     "output_type": "execute_result"
    }
   ],
   "source": [
    "df_train = pd.read_csv('../../data/train_data.csv')\n",
    "df_train['lemmatized'] = df_train['lemmatized'].apply(literal_eval)\n",
    "\n",
    "df_test = pd.read_csv('../../data/test_data.csv')\n",
    "df_test['lemmatized'] = df_test['lemmatized'].apply(literal_eval)\n",
    "\n",
    "df_train.head()"
   ]
  },
  {
   "cell_type": "code",
   "execution_count": 8,
   "metadata": {},
   "outputs": [
    {
     "name": "stdout",
     "output_type": "stream",
     "text": [
      "Loading saved glove word2vec 300d model\n",
      "{'300d': <gensim.models.keyedvectors.KeyedVectors object at 0x7fb61692faf0>}\n"
     ]
    }
   ],
   "source": [
    "# word vectors of the following dimensions are available: 50d, 100d, 200d, 300d \n",
    "GLOVE_MODELS = {}\n",
    "\n",
    "for dim in [\"300d\"]:#[\"50d\", \"100d\", \"200d\", \"300d\"]:\n",
    "    glove_path = f\"../../glove/glove.6B.{dim}.txt\"\n",
    "    glove_word2vec_path = glove_path + '.word2vec'\n",
    "\n",
    "    if os.path.exists(glove_word2vec_path):\n",
    "        # load the Stanford GloVe model\n",
    "        print(f\"Loading saved glove word2vec {dim} model\")\n",
    "        GLOVE_MODELS[dim] = KeyedVectors.load_word2vec_format(glove_word2vec_path, binary=False)\n",
    "    else:\n",
    "        # load the Stanford GloVe model from txt file, convert to word2vec and save\n",
    "        print(f\"Creating glove word2vec {dim} model\")\n",
    "        glove_model = KeyedVectors.load_word2vec_format(glove_path, binary=False, no_header=True)\n",
    "        glove_model.save_word2vec_format(glove_word2vec_path)\n",
    "        GLOVE_MODELS[dim] = glove_model\n",
    "\n",
    "print(GLOVE_MODELS)"
   ]
  },
  {
   "cell_type": "code",
   "execution_count": 9,
   "metadata": {},
   "outputs": [],
   "source": [
    "from sklearn.base import BaseEstimator\n",
    "\n",
    "# create vectorizer that uses glove embeddings\n",
    "class LyricsVectorizer(BaseEstimator):\n",
    "    def __init__(self, word_vec_dim=\"100d\", method=\"mean\"):\n",
    "        self.word_vectors = GLOVE_MODELS[word_vec_dim]\n",
    "        self.word_vec_dim = word_vec_dim\n",
    "        self.method = method\n",
    "\n",
    "    def fit(self, X, y=None):\n",
    "        return self\n",
    "\n",
    "    def _transform(self, data):\n",
    "        # determine the dimensionality of vectors\n",
    "        vec = np.zeros(self.word_vectors.vector_size)\n",
    "        \n",
    "        if type(data) == list:\n",
    "            #print(\"Data is tokenized\")\n",
    "            tokenized = True\n",
    "        elif type(data) == str:\n",
    "            #print(\"Data is non-tokenized string\")\n",
    "            tokenized = False\n",
    "        else:\n",
    "            print(\"Not recognized data type\")\n",
    "            return None\n",
    "        \n",
    "        if tokenized:\n",
    "            tokens = data\n",
    "        else:\n",
    "            tokens = data.split()\n",
    "        vecs = []\n",
    "        for word in tokens:\n",
    "            try:\n",
    "                # throws KeyError if word not found\n",
    "                word_embed = self.word_vectors.get_vector(word)\n",
    "                vecs.append(word_embed)\n",
    "            except KeyError:\n",
    "                pass\n",
    "        if len(vecs) > 0:\n",
    "            vecs = np.array(vecs)\n",
    "            if self.method == \"mean\":\n",
    "                vec = vecs.mean(axis=0) # lyrics embedding = mean over all words\n",
    "            else:\n",
    "                vec = vecs.sum(axis=0) # lyrics embedding = sum over all words\n",
    "            # maybe consider concatenation?\n",
    "        return vec\n",
    "    \n",
    "    def transform(self, X):\n",
    "        return np.concatenate(\n",
    "            [self._transform(row).reshape(1, -1) for row in X]\n",
    "            )\n",
    "    \n",
    "    def get_params(self, deep=True):\n",
    "        result = {\"word_vec_dim\": self.word_vec_dim, \"method\": self.method}\n",
    "        return result"
   ]
  },
  {
   "cell_type": "code",
   "execution_count": 10,
   "metadata": {},
   "outputs": [
    {
     "name": "stdout",
     "output_type": "stream",
     "text": [
      "Coding of labels into a one-hot vector, e.g.: \n",
      "country -> [0 1 0 0 0 0 0 0]\n",
      "reggae  -> [0 0 0 0 0 0 1 0]\n",
      "disco   -> [0 0 1 0 0 0 0 0]\n"
     ]
    }
   ],
   "source": [
    "from sklearn.preprocessing import LabelBinarizer\n",
    "\n",
    "# Renaming, Input -> X, Output -> y\n",
    "#X_tf_train = df_train['lyrics']\n",
    "#X_tf_test = df_test['lyrics']\n",
    "X_tf_train = df_train['lemmatized'].apply(' '.join)\n",
    "X_tf_test = df_test['lemmatized'].apply(' '.join)\n",
    "\n",
    "# Convert labels into a one-hot vector (length = number of genres)\n",
    "lab = LabelBinarizer()\n",
    "lab.fit(df_train['genre'])\n",
    "y_tf_train = lab.transform(df_train['genre'])\n",
    "y_tf_test = lab.transform(df_test['genre'])\n",
    "\n",
    "# Example (you can modify n)\n",
    "print('Coding of labels into a one-hot vector, e.g.: ')\n",
    "print(df_train['genre'][0], '->', y_tf_train[0])\n",
    "print(df_train['genre'][1], ' ->', y_tf_train[1])\n",
    "print(df_train['genre'][2], '  ->', y_tf_train[2])"
   ]
  },
  {
   "cell_type": "code",
   "execution_count": 11,
   "metadata": {},
   "outputs": [],
   "source": [
    "corpus = X_tf_train\n",
    "max_words = 20000\n",
    "tokenizer = kprocessing.text.Tokenizer(lower=True, split=' ', num_words=max_words, oov_token=\"<pad>\", filters='!\"#$%&()*+,-./:;<=>?@[\\\\]^_`{|}~\\t\\n')\n",
    "tokenizer.fit_on_texts(corpus)\n",
    "voc = tokenizer.word_index\n",
    "reverse_voc = dict([(value, key) for (key, value) in voc.items()])"
   ]
  },
  {
   "cell_type": "code",
   "execution_count": 34,
   "metadata": {},
   "outputs": [
    {
     "name": "stdout",
     "output_type": "stream",
     "text": [
      "Shape:  (609, 300)\n",
      "Example:  [   0    0    0    0    0    0    0    0    0    0    0    0    0    0\n",
      "    0    0    0    0    0    0    0    0    0    0    0    0    0    0\n",
      "    0    0    0    0    0    0    0    0    0    0    0    0    0    0\n",
      "    0    0    0    0    0    0    0    0    0    0    0    0    0    0\n",
      "    0    0    0    0    0    0    0    0    0    0    0    0    0    0\n",
      "    0    0    0    0    0    0    0    0    0    0    0    0    0    0\n",
      "    0    0    0    0    0    0    0    0    0    0    0    0    0    0\n",
      "    0    0    0    0    0    0    0    0    0    0    0    0    0    0\n",
      "    0    0    0    0    0    0    0    0    0    0    0    0    0    0\n",
      "    0    0    0    0    0    0    0    0    0    0    0    0    0    0\n",
      "    0    0    0    0    0    0    0    0    0    0    0    0    0    0\n",
      "    0    0    0    0    0    0    0    0    0    0    0    0    0    0\n",
      "    0    0    0    0    0    0    0    0    0    0    0    0    0    0\n",
      "    0    0    0    0    0    0    0    0    0    0    0    0    0    0\n",
      "    0    0    0   24  873 1563 1022  758  328 4351   90   81  114   11\n",
      " 1083  299 1431    2 4352 2552 1150   35   11  617  509  136  315 4353\n",
      "  265  114  269  269 1902  269 1023  114 2163  268  153 1564   40  273\n",
      "  140   22  492   77  155  395  239  431   76   13  316   27  136   69\n",
      "   14 1903  493  557  396 1432  420   30   41   31   66  470  283   24\n",
      "   11 1151  114 4354  329 3143   59   82 1565 1566 1235  220   10  246\n",
      "  558   26 2163 4355   10  874    2  252 2553    2   82  450  114   11\n",
      "  369  344  451   40   82   11]\n"
     ]
    }
   ],
   "source": [
    "max_len = 300\n",
    "\n",
    "sequences = tokenizer.texts_to_sequences(X_tf_train)\n",
    "X_tf_train_seq = kprocessing.sequence.pad_sequences(sequences, maxlen=max_len)\n",
    "\n",
    "# Apply the same to test data\n",
    "X_tf_test_seq = kprocessing.sequence.pad_sequences(tokenizer.texts_to_sequences(X_tf_test), maxlen=max_len)\n",
    "\n",
    "n=0 # You can adjust n\n",
    "print('Shape: ',X_tf_train_seq.shape)\n",
    "print('Example: ',X_tf_train_seq[n,:])"
   ]
  },
  {
   "cell_type": "code",
   "execution_count": 35,
   "metadata": {},
   "outputs": [
    {
     "name": "stdout",
     "output_type": "stream",
     "text": [
      "(7660, 300)\n"
     ]
    }
   ],
   "source": [
    "glove = GLOVE_MODELS[\"300d\"]\n",
    "corpus_len = len(reverse_voc)\n",
    "emb_matrix=np.zeros((corpus_len+1, glove.vector_size))\n",
    "\n",
    "for i in range(corpus_len):\n",
    "    w = reverse_voc[i+1]\n",
    "    try:\n",
    "        # throws KeyError if word not found\n",
    "        emb_matrix[i+1,:] = glove.get_vector(w)\n",
    "    except KeyError:\n",
    "        pass\n",
    "    \n",
    "emb_size = emb_matrix.shape[1]\n",
    "print(emb_matrix.shape)"
   ]
  },
  {
   "cell_type": "code",
   "execution_count": 36,
   "metadata": {},
   "outputs": [],
   "source": [
    "input_ = layers.Input(shape = X_tf_train_seq[0,:].shape, name='input')\n",
    "\n",
    "# Embedding layer (voc size plus pad token (with index 0), using the pre-trained emb_matrix obtained from glove\n",
    "x = layers.Embedding(corpus_len+1, emb_size, weights=[emb_matrix], trainable=False, name='embedding')(input_)\n",
    "x = layers.Bidirectional(layers.LSTM(64,dropout=0.2), name='bidirectional-lstm')(x) # LSTM layer\n",
    "x = layers.Dropout(0.2, name='dropout')(x)\n",
    "x = layers.Dense(64, activation='relu', name='dense')(x)\n",
    "output = layers.Dense(df_train['genre'].nunique(), activation='softmax', name='classification')(x)\n",
    "\n",
    "model = models.Model(input_, output)\n",
    "\n",
    "opt = optimizers.Adam(learning_rate=0.005, beta_1=0.9)\n",
    "model.compile(optimizer=opt, loss='categorical_crossentropy', metrics=['accuracy'])"
   ]
  },
  {
   "cell_type": "code",
   "execution_count": 37,
   "metadata": {},
   "outputs": [
    {
     "name": "stdout",
     "output_type": "stream",
     "text": [
      "Model: \"model_4\"\n",
      "_________________________________________________________________\n",
      " Layer (type)                Output Shape              Param #   \n",
      "=================================================================\n",
      " input (InputLayer)          [(None, 300)]             0         \n",
      "                                                                 \n",
      " embedding (Embedding)       (None, 300, 300)          2298000   \n",
      "                                                                 \n",
      " bidirectional-lstm (Bidirec  (None, 128)              186880    \n",
      " tional)                                                         \n",
      "                                                                 \n",
      " dropout (Dropout)           (None, 128)               0         \n",
      "                                                                 \n",
      " dense (Dense)               (None, 64)                8256      \n",
      "                                                                 \n",
      " classification (Dense)      (None, 8)                 520       \n",
      "                                                                 \n",
      "=================================================================\n",
      "Total params: 2,493,656\n",
      "Trainable params: 195,656\n",
      "Non-trainable params: 2,298,000\n",
      "_________________________________________________________________\n"
     ]
    }
   ],
   "source": [
    "model.summary()"
   ]
  },
  {
   "cell_type": "code",
   "execution_count": 38,
   "metadata": {},
   "outputs": [
    {
     "name": "stdout",
     "output_type": "stream",
     "text": [
      "Epoch 1/25\n",
      "20/20 [==============================] - 15s 466ms/step - loss: 1.9876 - accuracy: 0.1921 - val_loss: 1.8965 - val_accuracy: 0.2418\n",
      "Epoch 2/25\n",
      "20/20 [==============================] - 8s 379ms/step - loss: 1.7215 - accuracy: 0.3842 - val_loss: 1.8899 - val_accuracy: 0.2680\n",
      "Epoch 3/25\n",
      "20/20 [==============================] - 5s 267ms/step - loss: 1.4992 - accuracy: 0.4499 - val_loss: 1.9378 - val_accuracy: 0.2614\n",
      "Epoch 4/25\n",
      "20/20 [==============================] - 4s 208ms/step - loss: 1.2368 - accuracy: 0.5402 - val_loss: 1.9107 - val_accuracy: 0.3464\n",
      "Epoch 5/25\n",
      "20/20 [==============================] - 4s 225ms/step - loss: 1.0382 - accuracy: 0.6256 - val_loss: 1.9474 - val_accuracy: 0.3595\n",
      "Epoch 6/25\n",
      "20/20 [==============================] - 4s 208ms/step - loss: 0.8695 - accuracy: 0.6749 - val_loss: 1.9486 - val_accuracy: 0.3922\n",
      "Epoch 7/25\n",
      "20/20 [==============================] - 4s 221ms/step - loss: 0.6173 - accuracy: 0.8144 - val_loss: 2.2153 - val_accuracy: 0.3856\n",
      "Epoch 8/25\n",
      "20/20 [==============================] - 4s 223ms/step - loss: 0.4546 - accuracy: 0.8456 - val_loss: 2.0853 - val_accuracy: 0.4575\n",
      "Epoch 9/25\n",
      "20/20 [==============================] - 4s 208ms/step - loss: 0.4113 - accuracy: 0.8637 - val_loss: 2.3346 - val_accuracy: 0.4183\n",
      "Epoch 10/25\n",
      "20/20 [==============================] - 4s 208ms/step - loss: 0.3234 - accuracy: 0.9163 - val_loss: 2.3421 - val_accuracy: 0.4052\n",
      "Epoch 11/25\n",
      "20/20 [==============================] - 5s 237ms/step - loss: 0.2715 - accuracy: 0.9113 - val_loss: 2.3767 - val_accuracy: 0.4510\n",
      "Epoch 12/25\n",
      "20/20 [==============================] - 4s 206ms/step - loss: 0.1874 - accuracy: 0.9507 - val_loss: 2.6062 - val_accuracy: 0.4379\n",
      "Epoch 13/25\n",
      "20/20 [==============================] - 4s 206ms/step - loss: 0.0939 - accuracy: 0.9770 - val_loss: 2.9427 - val_accuracy: 0.4575\n",
      "Epoch 14/25\n",
      "20/20 [==============================] - 5s 231ms/step - loss: 0.0937 - accuracy: 0.9787 - val_loss: 2.9753 - val_accuracy: 0.4248\n",
      "Epoch 15/25\n",
      "20/20 [==============================] - 5s 226ms/step - loss: 0.1514 - accuracy: 0.9442 - val_loss: 2.9874 - val_accuracy: 0.4314\n",
      "Epoch 16/25\n",
      "20/20 [==============================] - 5s 268ms/step - loss: 0.1191 - accuracy: 0.9639 - val_loss: 2.9948 - val_accuracy: 0.4248\n",
      "Epoch 17/25\n",
      "20/20 [==============================] - 5s 226ms/step - loss: 0.0790 - accuracy: 0.9754 - val_loss: 3.0287 - val_accuracy: 0.4379\n",
      "Epoch 18/25\n",
      "20/20 [==============================] - 4s 222ms/step - loss: 0.0651 - accuracy: 0.9787 - val_loss: 3.1154 - val_accuracy: 0.4118\n",
      "Epoch 19/25\n",
      "20/20 [==============================] - 5s 241ms/step - loss: 0.0372 - accuracy: 0.9918 - val_loss: 3.1940 - val_accuracy: 0.4379\n",
      "Epoch 20/25\n",
      "20/20 [==============================] - 5s 245ms/step - loss: 0.0345 - accuracy: 0.9869 - val_loss: 3.6077 - val_accuracy: 0.4314\n",
      "Epoch 21/25\n",
      "20/20 [==============================] - 4s 217ms/step - loss: 0.3968 - accuracy: 0.8785 - val_loss: 2.7466 - val_accuracy: 0.4248\n",
      "Epoch 22/25\n",
      "20/20 [==============================] - 4s 216ms/step - loss: 0.2156 - accuracy: 0.9327 - val_loss: 2.7013 - val_accuracy: 0.4444\n",
      "Epoch 23/25\n",
      "20/20 [==============================] - 5s 230ms/step - loss: 0.0921 - accuracy: 0.9672 - val_loss: 2.8726 - val_accuracy: 0.4183\n"
     ]
    }
   ],
   "source": [
    "start_time = datetime.now()\n",
    "callback = tf.keras.callbacks.EarlyStopping(monitor='loss', patience=3)\n",
    "history = model.fit(X_tf_train_seq, y_tf_train, batch_size=32, shuffle=True, epochs=25, callbacks=[callback], validation_data=(X_tf_test_seq, y_tf_test))\n",
    "end_time = datetime.now()\n",
    "\n",
    "training_time_rnn = (end_time - start_time).total_seconds()"
   ]
  },
  {
   "cell_type": "code",
   "execution_count": 39,
   "metadata": {},
   "outputs": [
    {
     "name": "stdout",
     "output_type": "stream",
     "text": [
      "\n",
      "Accuracy Training data:  96.72%\n",
      "Accuracy Test data:      41.83%\n",
      "Training time: 117.7 sec\n",
      "\n"
     ]
    },
    {
     "data": {
      "image/png": "[encoded data removed]",
      "text/plain": [
       "<Figure size 1080x360 with 2 Axes>"
      ]
     },
     "metadata": {},
     "output_type": "display_data"
    },
    {
     "data": {
      "image/png": "[encoded data removed]",
      "text/plain": [
       "<Figure size 576x432 with 2 Axes>"
      ]
     },
     "metadata": {},
     "output_type": "display_data"
    },
    {
     "name": "stdout",
     "output_type": "stream",
     "text": [
      "Accuracy  = 0.41830065359477125\n",
      "F1 score  = 0.4073708865832118\n",
      "Precision = 0.4134342655229271\n",
      "Recall    = 0.41830065359477125\n"
     ]
    }
   ],
   "source": [
    "fig, ax = plt.subplots(nrows=1, ncols=2, figsize=(15, 5))\n",
    "ax[0].set(title='Loss')\n",
    "ax[0].plot(history.history['loss'], label='Training data')\n",
    "ax[0].plot(history.history['val_loss'], label='Test data')\n",
    "ax[0].legend(loc=\"upper right\")\n",
    "\n",
    "ax[1].set(title='Accuracy')\n",
    "ax[1].plot(history.history['accuracy'], label='Training data')\n",
    "ax[1].plot(history.history['val_accuracy'], label='Test data')\n",
    "ax[1].legend(loc=\"lower right\")\n",
    "\n",
    "print(\"\")\n",
    "accuracy_rnn = history.history['val_accuracy'][-1]\n",
    "print('Accuracy Training data:  {:.2%}'.format(history.history['accuracy'][-1]))\n",
    "print('Accuracy Test data:      {:.2%}'.format(history.history['val_accuracy'][-1]))\n",
    "print('Training time: {:.1f} sec'.format(training_time_rnn))\n",
    "print(\"\")\n",
    "\n",
    "pred_prob = model.predict(X_tf_test_seq)\n",
    "pred = np.argmax(pred_prob, axis=1)\n",
    "pred = lab.classes_[pred].tolist()\n",
    "evaluate_classifier(df_test['genre'], pred, lab.classes_)"
   ]
  }
 ],
 "metadata": {
  "colab": {
   "authorship_tag": "ABX9TyMgh+tFz2LwV+MV/HvYXc9Z",
   "collapsed_sections": [],
   "name": "naive-bayes_word2vec.ipynb",
   "provenance": []
  },
  "kernelspec": {
   "display_name": "Python 3 (ipykernel)",
   "language": "python",
   "name": "python3"
  },
  "language_info": {
   "codemirror_mode": {
    "name": "ipython",
    "version": 3
   },
   "file_extension": ".py",
   "mimetype": "text/x-python",
   "name": "python",
   "nbconvert_exporter": "python",
   "pygments_lexer": "ipython3",
   "version": "3.9.7"
  }
 },
 "nbformat": 4,
 "nbformat_minor": 4
}
