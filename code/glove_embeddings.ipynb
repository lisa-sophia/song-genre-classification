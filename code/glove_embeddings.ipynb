{
 "cells": [
  {
   "cell_type": "code",
   "execution_count": 15,
   "metadata": {
    "colab": {
     "base_uri": "https://localhost:8080/"
    },
    "executionInfo": {
     "elapsed": 17300,
     "status": "ok",
     "timestamp": 1645532044623,
     "user": {
      "displayName": "Lisa Spahn Lundgren",
      "photoUrl": "https://lh3.googleusercontent.com/a/default-user=s64",
      "userId": "13266833213640265739"
     },
     "user_tz": -60
    },
    "id": "VXak8PjjRAQW",
    "outputId": "66554787-38d7-4d5e-f838-a12226fd84fe"
   },
   "outputs": [],
   "source": [
    "import pandas as pd\n",
    "import numpy as np\n",
    "import string\n",
    "import matplotlib.pyplot as plt\n",
    "import seaborn as sns\n",
    "import os\n",
    "from ast import literal_eval\n",
    "from gensim.models import KeyedVectors\n",
    "from sklearn.pipeline import Pipeline\n",
    "from sklearn.feature_extraction.text import TfidfVectorizer, CountVectorizer\n",
    "from sklearn.naive_bayes import MultinomialNB\n",
    "from sklearn.ensemble import RandomForestClassifier\n",
    "from sklearn.metrics import classification_report, accuracy_score, f1_score, recall_score, precision_score\n",
    "from sklearn.model_selection import GridSearchCV\n",
    "from sklearn.preprocessing import LabelEncoder\n",
    "from sklearn.metrics import confusion_matrix, ConfusionMatrixDisplay\n",
    "from sklearn.svm import SVC\n",
    "from xgboost import XGBClassifier"
   ]
  },
  {
   "cell_type": "code",
   "execution_count": 38,
   "metadata": {},
   "outputs": [],
   "source": [
    "### functions\n",
    "\n",
    "sns.set(font_scale=1.1)\n",
    "\n",
    "def evaluate_classifier(model, X_test, y_test, labels=None, label_encoder=None):\n",
    "    labels = list(model.classes_)\n",
    "    pred = model.predict(X_test) \n",
    "    if type(model['clf']) == XGBClassifier:\n",
    "        pred = label_encoder.inverse_transform(pred)\n",
    "        labels = label_encoder.inverse_transform(labels)\n",
    "    fig, ax = plt.subplots(figsize=(8,6))\n",
    "    # normalize : {'true', 'pred', 'all'}, default=None\n",
    "    # Normalizes confusion matrix over the true (rows), predicted (columns) conditions or all the population. \n",
    "    # If None, confusion matrix will not be normalized.\n",
    "    cm = confusion_matrix(y_test, pred, normalize=None) \n",
    "    disp = ConfusionMatrixDisplay(confusion_matrix=cm, display_labels=labels)\n",
    "    disp.plot(ax=ax)\n",
    "    plt.grid(False)\n",
    "    plt.show()\n",
    "    \n",
    "    print(\"Accuracy  = \" + str(accuracy_score(y_true=y_test, y_pred=pred)))\n",
    "    print(\"F1 score  = \" + str(f1_score(y_true=y_test, y_pred=pred, average='weighted')))\n",
    "    print(\"Precision = \" + str(precision_score(y_true=y_test, y_pred=pred, average='weighted')))\n",
    "    print(\"Recall    = \" + str(recall_score(y_true=y_test, y_pred=pred, average='weighted')))"
   ]
  },
  {
   "cell_type": "code",
   "execution_count": 17,
   "metadata": {
    "colab": {
     "base_uri": "https://localhost:8080/"
    },
    "executionInfo": {
     "elapsed": 36270,
     "status": "ok",
     "timestamp": 1645532377931,
     "user": {
      "displayName": "Lisa Spahn Lundgren",
      "photoUrl": "https://lh3.googleusercontent.com/a/default-user=s64",
      "userId": "13266833213640265739"
     },
     "user_tz": -60
    },
    "id": "AawEopyLSAmU",
    "outputId": "1a2cd245-6593-4af2-c426-4a11edac1a1d"
   },
   "outputs": [
    {
     "data": {
      "text/html": [
       "<div>\n",
       "<style scoped>\n",
       "    .dataframe tbody tr th:only-of-type {\n",
       "        vertical-align: middle;\n",
       "    }\n",
       "\n",
       "    .dataframe tbody tr th {\n",
       "        vertical-align: top;\n",
       "    }\n",
       "\n",
       "    .dataframe thead th {\n",
       "        text-align: right;\n",
       "    }\n",
       "</style>\n",
       "<table border=\"1\" class=\"dataframe\">\n",
       "  <thead>\n",
       "    <tr style=\"text-align: right;\">\n",
       "      <th></th>\n",
       "      <th>filename</th>\n",
       "      <th>artist</th>\n",
       "      <th>title</th>\n",
       "      <th>genre</th>\n",
       "      <th>lyrics</th>\n",
       "      <th>instrumental</th>\n",
       "      <th>tokenized</th>\n",
       "      <th>lemmatized</th>\n",
       "    </tr>\n",
       "  </thead>\n",
       "  <tbody>\n",
       "    <tr>\n",
       "      <th>0</th>\n",
       "      <td>country.00041.wav</td>\n",
       "      <td>Johnny Cash</td>\n",
       "      <td>Goin' By The Book</td>\n",
       "      <td>country</td>\n",
       "      <td>\\nYou can see it in the movies and the paper a...</td>\n",
       "      <td>False</td>\n",
       "      <td>[see, movies, paper, tv, news, somebodys, army...</td>\n",
       "      <td>[see, movie, paper, tv, news, somebody, army, ...</td>\n",
       "    </tr>\n",
       "    <tr>\n",
       "      <th>1</th>\n",
       "      <td>reggae.00038.wav</td>\n",
       "      <td>Burning Spear</td>\n",
       "      <td>Investigation Dub</td>\n",
       "      <td>reggae</td>\n",
       "      <td>I and I old I know\\nI and I old I say\\nI and I...</td>\n",
       "      <td>False</td>\n",
       "      <td>[old, know, old, say, reconsider, see, upfully...</td>\n",
       "      <td>[old, know, old, say, reconsider, see, upfully...</td>\n",
       "    </tr>\n",
       "    <tr>\n",
       "      <th>2</th>\n",
       "      <td>disco.00070.wav</td>\n",
       "      <td>KC and The Sunshine Band</td>\n",
       "      <td>That's The Way (I Like It)</td>\n",
       "      <td>disco</td>\n",
       "      <td>That's the way, aha, aha\\nI like it, aha, aha\\...</td>\n",
       "      <td>False</td>\n",
       "      <td>[thats, way, aha, aha, like, aha, aha, thats, ...</td>\n",
       "      <td>[thats, way, aha, aha, like, aha, aha, thats, ...</td>\n",
       "    </tr>\n",
       "    <tr>\n",
       "      <th>3</th>\n",
       "      <td>reggae.00088.wav</td>\n",
       "      <td>Marcia Griffiths</td>\n",
       "      <td>Electric Boogie</td>\n",
       "      <td>reggae</td>\n",
       "      <td>\\nIt's electric!\\n\\n\\nYou can't see it\\nIt's e...</td>\n",
       "      <td>False</td>\n",
       "      <td>[electric, cant, see, electric, got, ta, feel,...</td>\n",
       "      <td>[electric, cant, see, electric, get, ta, feel,...</td>\n",
       "    </tr>\n",
       "    <tr>\n",
       "      <th>4</th>\n",
       "      <td>pop.00017.wav</td>\n",
       "      <td>Britney Spears</td>\n",
       "      <td>(I Can't Get No) Satisfaction</td>\n",
       "      <td>pop</td>\n",
       "      <td>\\nI can't get no satisfaction\\nI can't get no ...</td>\n",
       "      <td>False</td>\n",
       "      <td>[cant, get, satisfaction, cant, get, satisfact...</td>\n",
       "      <td>[cant, get, satisfaction, cant, get, satisfact...</td>\n",
       "    </tr>\n",
       "  </tbody>\n",
       "</table>\n",
       "</div>"
      ],
      "text/plain": [
       "            filename                    artist                          title  \\\n",
       "0  country.00041.wav               Johnny Cash              Goin' By The Book   \n",
       "1   reggae.00038.wav             Burning Spear              Investigation Dub   \n",
       "2    disco.00070.wav  KC and The Sunshine Band     That's The Way (I Like It)   \n",
       "3   reggae.00088.wav          Marcia Griffiths                Electric Boogie   \n",
       "4      pop.00017.wav            Britney Spears  (I Can't Get No) Satisfaction   \n",
       "\n",
       "     genre                                             lyrics  instrumental  \\\n",
       "0  country  \\nYou can see it in the movies and the paper a...         False   \n",
       "1   reggae  I and I old I know\\nI and I old I say\\nI and I...         False   \n",
       "2    disco  That's the way, aha, aha\\nI like it, aha, aha\\...         False   \n",
       "3   reggae  \\nIt's electric!\\n\\n\\nYou can't see it\\nIt's e...         False   \n",
       "4      pop  \\nI can't get no satisfaction\\nI can't get no ...         False   \n",
       "\n",
       "                                           tokenized  \\\n",
       "0  [see, movies, paper, tv, news, somebodys, army...   \n",
       "1  [old, know, old, say, reconsider, see, upfully...   \n",
       "2  [thats, way, aha, aha, like, aha, aha, thats, ...   \n",
       "3  [electric, cant, see, electric, got, ta, feel,...   \n",
       "4  [cant, get, satisfaction, cant, get, satisfact...   \n",
       "\n",
       "                                          lemmatized  \n",
       "0  [see, movie, paper, tv, news, somebody, army, ...  \n",
       "1  [old, know, old, say, reconsider, see, upfully...  \n",
       "2  [thats, way, aha, aha, like, aha, aha, thats, ...  \n",
       "3  [electric, cant, see, electric, get, ta, feel,...  \n",
       "4  [cant, get, satisfaction, cant, get, satisfact...  "
      ]
     },
     "execution_count": 17,
     "metadata": {},
     "output_type": "execute_result"
    }
   ],
   "source": [
    "df_train = pd.read_csv('../data/train_data.csv')\n",
    "df_train['lemmatized'] = df_train['lemmatized'].apply(literal_eval)\n",
    "df_train['tokenized'] = df_train['tokenized'].apply(literal_eval)\n",
    "\n",
    "df_test = pd.read_csv('../data/test_data.csv')\n",
    "df_test['lemmatized'] = df_test['lemmatized'].apply(literal_eval)\n",
    "df_test['tokenized'] = df_test['tokenized'].apply(literal_eval)\n",
    "\n",
    "df_train.head()"
   ]
  },
  {
   "cell_type": "code",
   "execution_count": 18,
   "metadata": {},
   "outputs": [
    {
     "name": "stdout",
     "output_type": "stream",
     "text": [
      "Loading saved glove word2vec model\n",
      "<gensim.models.keyedvectors.KeyedVectors object at 0x7f1a57d967c0>\n"
     ]
    }
   ],
   "source": [
    "# word vectors of the following dimensions are available: 50d, 100d, 200d, 300d \n",
    "glove_path = '../glove/glove.6B.100d.txt'\n",
    "glove_word2vec_path = glove_path + '.word2vec'\n",
    "\n",
    "if os.path.exists(glove_word2vec_path):\n",
    "    # load the Stanford GloVe model\n",
    "    print(\"Loading saved glove word2vec model\")\n",
    "    glove_model = KeyedVectors.load_word2vec_format(glove_word2vec_path, binary=False)\n",
    "else:\n",
    "    # load the Stanford GloVe model from txt file, convert to word2vec and save\n",
    "    glove_model = KeyedVectors.load_word2vec_format(glove_path, binary=False, no_header=True)\n",
    "    glove_model.save_word2vec_format(glove_word2vec_path)\n",
    "    \n",
    "print(glove_model)"
   ]
  },
  {
   "cell_type": "code",
   "execution_count": 19,
   "metadata": {},
   "outputs": [
    {
     "name": "stdout",
     "output_type": "stream",
     "text": [
      "King:  [-0.32307  -0.87616   0.21977   0.25268   0.22976   0.7388   -0.37954\n",
      " -0.35307  -0.84369  -1.1113   -0.30266   0.33178  -0.25113   0.30448\n",
      " -0.077491 -0.89815   0.092496 -1.1407   -0.58324   0.66869  -0.23122\n",
      " -0.95855   0.28262  -0.078848  0.75315   0.26584   0.3422   -0.33949\n",
      "  0.95608   0.065641  0.45747   0.39835   0.57965   0.39267  -0.21851\n",
      "  0.58795  -0.55999   0.63368  -0.043983 -0.68731  -0.37841   0.38026\n",
      "  0.61641  -0.88269  -0.12346  -0.37928  -0.38318   0.23868   0.6685\n",
      " -0.43321  -0.11065   0.081723  1.1569    0.78958  -0.21223  -2.3211\n",
      " -0.67806   0.44561   0.65707   0.1045    0.46217   0.19912   0.25802\n",
      "  0.057194  0.53443  -0.43133  -0.34311   0.59789  -0.58417   0.068995\n",
      "  0.23944  -0.85181   0.30379  -0.34177  -0.25746  -0.031101 -0.16285\n",
      "  0.45169  -0.91627   0.64521   0.73281  -0.22752   0.30226   0.044801\n",
      " -0.83741   0.55006  -0.52506  -1.7357    0.4751   -0.70487   0.056939\n",
      " -0.7132    0.089623  0.41394  -1.3363   -0.61915  -0.33089  -0.52881\n",
      "  0.16483  -0.98878 ]\n",
      "Most similar word to King + Woman:  [('queen', 0.7698541283607483)]\n"
     ]
    }
   ],
   "source": [
    "# Show a word embedding\n",
    "print('King: ', glove_model.get_vector('king'))\n",
    "\n",
    "# Show a similar word\n",
    "similar_word = glove_model.most_similar(positive=['woman', 'king'], negative=['man'], topn=1)\n",
    "print('Most similar word to King + Woman: ', similar_word)"
   ]
  },
  {
   "cell_type": "code",
   "execution_count": 20,
   "metadata": {},
   "outputs": [],
   "source": [
    "## TODO: make into class that can be called in pipeline (see below)\n",
    "\n",
    "class LyricsVectorizer:\n",
    "    def __init__(self, model, method=\"mean\"):\n",
    "        print(\"Loading in word vectors...\")\n",
    "        self.word_vectors = model\n",
    "        self.method = method\n",
    "        print(\"Finished loading in word vectors\")\n",
    "\n",
    "    def fit(self, data):\n",
    "        pass\n",
    "\n",
    "    def transform(self, data):\n",
    "        # determine the dimensionality of vectors\n",
    "        self.D = self.word_vectors.vector_size\n",
    "\n",
    "        X = np.zeros((len(data), self.D))\n",
    "        n = 0\n",
    "        \n",
    "        if type(data[0]) == list:\n",
    "            print(\"Data is tokenized\")\n",
    "            tokenized = True\n",
    "        elif type(data[0]) == str:\n",
    "            print(\"Data is non-tokenized string\")\n",
    "            tokenized = False\n",
    "        else:\n",
    "            print(\"Not recognized data type\")\n",
    "            return None\n",
    "        \n",
    "        for sentence in data:\n",
    "            if tokenized:\n",
    "                tokens = sentence\n",
    "            else:\n",
    "                tokens = sentence.split()\n",
    "            vecs = []\n",
    "            m = 0\n",
    "            for word in tokens:\n",
    "                try:\n",
    "                    # throws KeyError if word not found\n",
    "                    vec = self.word_vectors.get_vector(word)\n",
    "                    vecs.append(vec)\n",
    "                    m += 1\n",
    "                except KeyError:\n",
    "                    pass\n",
    "            if len(vecs) > 0:\n",
    "                vecs = np.array(vecs)\n",
    "                if self.method == \"mean\":\n",
    "                    X[n] = vecs.mean(axis=0) # lyrics embedding = mean over all words\n",
    "                else:\n",
    "                    X[n] = vecs.sum(axis=0) # lyrics embedding = sum over all words\n",
    "                # maybe consider concatenation?\n",
    "            n += 1\n",
    "        return X\n",
    "\n",
    "    def fit_transform(self, data):\n",
    "        self.fit(data)\n",
    "        return self.transform(data)"
   ]
  },
  {
   "cell_type": "code",
   "execution_count": 21,
   "metadata": {},
   "outputs": [
    {
     "name": "stdout",
     "output_type": "stream",
     "text": [
      "Loading in word vectors...\n",
      "Finished loading in word vectors\n",
      "Data is tokenized\n",
      "Data is tokenized\n"
     ]
    }
   ],
   "source": [
    "# Set a word vectorizer\n",
    "vectorizer = LyricsVectorizer(glove_model)\n",
    "\n",
    "# Get the sentence embeddings for the train dataset\n",
    "X_train = vectorizer.fit_transform(df_train['lemmatized'])\n",
    "y_train = df_train['genre']\n",
    "\n",
    "# Get the sentence embeddings for the test dataset\n",
    "X_test = vectorizer.transform(df_test['lemmatized'])\n",
    "y_test = df_test['genre']"
   ]
  },
  {
   "cell_type": "markdown",
   "metadata": {},
   "source": [
    "## Classifier"
   ]
  },
  {
   "cell_type": "code",
   "execution_count": 35,
   "metadata": {},
   "outputs": [
    {
     "data": {
      "image/png": "[encoded data removed]",
      "text/plain": [
       "<Figure size 576x432 with 2 Axes>"
      ]
     },
     "metadata": {},
     "output_type": "display_data"
    },
    {
     "name": "stdout",
     "output_type": "stream",
     "text": [
      "Accuracy  = 0.477124183006536\n",
      "F1 score  = 0.45947439335486234\n",
      "Precision = 0.46535997911709487\n",
      "Recall    = 0.477124183006536\n"
     ]
    }
   ],
   "source": [
    "from sklearn.preprocessing import MinMaxScaler\n",
    "\n",
    "pipe = Pipeline([('norm', MinMaxScaler()),\n",
    "                 ('clf', SVC())])\n",
    "\n",
    "pipe.fit(X_train, y_train)\n",
    "\n",
    "evaluate_classifier(pipe, X_test, y_test)"
   ]
  },
  {
   "cell_type": "code",
   "execution_count": 40,
   "metadata": {},
   "outputs": [
    {
     "data": {
      "image/png": "[encoded data removed]",
      "text/plain": [
       "<Figure size 576x432 with 2 Axes>"
      ]
     },
     "metadata": {},
     "output_type": "display_data"
    },
    {
     "name": "stdout",
     "output_type": "stream",
     "text": [
      "Accuracy  = 0.4444444444444444\n",
      "F1 score  = 0.42979039028468174\n",
      "Precision = 0.4412335514502697\n",
      "Recall    = 0.4444444444444444\n"
     ]
    }
   ],
   "source": [
    "pipe = Pipeline([('norm', MinMaxScaler()),\n",
    "                 ('clf', RandomForestClassifier())])\n",
    "\n",
    "pipe.fit(X_train, y_train)\n",
    "\n",
    "evaluate_classifier(pipe, X_test, y_test)"
   ]
  },
  {
   "cell_type": "markdown",
   "metadata": {
    "tags": []
   },
   "source": [
    "## from before"
   ]
  },
  {
   "cell_type": "code",
   "execution_count": null,
   "metadata": {
    "id": "WfyYKlfNblZZ"
   },
   "outputs": [],
   "source": [
    "from sklearn.base import BaseEstimator, TransformerMixin\n",
    "\n",
    "class SentenceVectorizer(BaseEstimator, TransformerMixin):\n",
    "    def __init__(self):\n",
    "        pass\n",
    "\n",
    "    def fit(self, X, y=None):\n",
    "        return self\n",
    "\n",
    "    # Vectorize a single sentence.\n",
    "    def _transform(self, tokens):\n",
    "        vec = np.zeros(nlp.vocab.vectors.shape[1])\n",
    "        for token in tokens:\n",
    "          vec = np.add(vec, nlp.vocab[token].vector)\n",
    "        return vec\n",
    "\n",
    "    def transform(self, X):\n",
    "        return np.concatenate(\n",
    "            [self._transform(row.tokenized).reshape(1, -1) for row in X.itertuples()]\n",
    "            )"
   ]
  },
  {
   "cell_type": "markdown",
   "metadata": {
    "id": "4KrczCMvbrzS"
   },
   "source": [
    "### Naive Bayes"
   ]
  },
  {
   "cell_type": "code",
   "execution_count": null,
   "metadata": {
    "id": "jQ95KH64c68w"
   },
   "outputs": [],
   "source": [
    "from sklearn.pipeline import Pipeline\n",
    "from sklearn.naive_bayes import MultinomialNB\n",
    "from sklearn.metrics import classification_report"
   ]
  },
  {
   "cell_type": "code",
   "execution_count": null,
   "metadata": {
    "colab": {
     "base_uri": "https://localhost:8080/"
    },
    "executionInfo": {
     "elapsed": 2032878,
     "status": "ok",
     "timestamp": 1645536696246,
     "user": {
      "displayName": "Lisa Spahn Lundgren",
      "photoUrl": "https://lh3.googleusercontent.com/a/default-user=s64",
      "userId": "13266833213640265739"
     },
     "user_tz": -60
    },
    "id": "mljiK7JjRe2S",
    "outputId": "55210d66-c415-40b2-bea3-bfcc267be3bc"
   },
   "outputs": [
    {
     "data": {
      "text/plain": [
       "Pipeline(steps=[('vectorizer', SentenceVectorizer()),\n",
       "                ('Normalizing', MinMaxScaler()),\n",
       "                ('classifier', MultinomialNB())])"
      ]
     },
     "execution_count": 21,
     "metadata": {},
     "output_type": "execute_result"
    }
   ],
   "source": [
    "from sklearn.preprocessing import MinMaxScaler\n",
    "\n",
    "pipe = Pipeline([('vectorizer', SentenceVectorizer()), \n",
    "                 ('Normalizing',MinMaxScaler()),\n",
    "                 ('classifier', MultinomialNB())])\n",
    "pipe.fit(df_train, df_train['gender'])"
   ]
  },
  {
   "cell_type": "code",
   "execution_count": null,
   "metadata": {
    "colab": {
     "base_uri": "https://localhost:8080/"
    },
    "executionInfo": {
     "elapsed": 548848,
     "status": "ok",
     "timestamp": 1645537255714,
     "user": {
      "displayName": "Lisa Spahn Lundgren",
      "photoUrl": "https://lh3.googleusercontent.com/a/default-user=s64",
      "userId": "13266833213640265739"
     },
     "user_tz": -60
    },
    "id": "ae2ypFNKgpuh",
    "outputId": "40e222f3-3334-4c97-dcd9-e88810c40aa9"
   },
   "outputs": [
    {
     "name": "stdout",
     "output_type": "stream",
     "text": [
      "              precision    recall  f1-score   support\n",
      "\n",
      "      female       0.38      0.00      0.00     64391\n",
      "        male       0.51      1.00      0.68     67312\n",
      "\n",
      "    accuracy                           0.51    131703\n",
      "   macro avg       0.45      0.50      0.34    131703\n",
      "weighted avg       0.45      0.51      0.35    131703\n",
      "\n"
     ]
    }
   ],
   "source": [
    "pred = pipe.predict(df_test)\n",
    "print(classification_report(y_true=df_test['gender'], y_pred=pred))"
   ]
  },
  {
   "cell_type": "markdown",
   "metadata": {
    "id": "Oc1TqwDxz3w3"
   },
   "source": [
    "Bad performance, only 51% accuracy (as good as guessing)\n",
    "-> this could be because NaiveBayes has assumption that features are independent of each other. So by doing sentence embedding and adding up the features, this is not fulfilled? Or it's the normalization step that changes the data? (necessary because NaiveBayes can't take negative values)"
   ]
  },
  {
   "cell_type": "markdown",
   "metadata": {
    "id": "nms-buuzn64u"
   },
   "source": [
    "### Save the models to the drive"
   ]
  },
  {
   "cell_type": "code",
   "execution_count": null,
   "metadata": {
    "id": "KrHpKDRFnXsr"
   },
   "outputs": [],
   "source": [
    "import pickle\n",
    "\n",
    "#model1 = '/content/drive/MyDrive/Colab Notebooks/gender_prediction/models/NB_countVec.sav'\n",
    "#pickle.dump(pipe, open(model1, 'wb'))\n",
    "\n",
    "#model2 = '/content/drive/MyDrive/Colab Notebooks/gender_prediction/models/NB_tfIdf.sav'\n",
    "#pickle.dump(pipe_tfidf, open(model2, 'wb'))\n",
    "\n",
    "# load the models with pickle.load(open(filename, 'rb'))"
   ]
  }
 ],
 "metadata": {
  "colab": {
   "authorship_tag": "ABX9TyMgh+tFz2LwV+MV/HvYXc9Z",
   "collapsed_sections": [],
   "name": "naive-bayes_word2vec.ipynb",
   "provenance": []
  },
  "kernelspec": {
   "display_name": "Python 3 (ipykernel)",
   "language": "python",
   "name": "python3"
  },
  "language_info": {
   "codemirror_mode": {
    "name": "ipython",
    "version": 3
   },
   "file_extension": ".py",
   "mimetype": "text/x-python",
   "name": "python",
   "nbconvert_exporter": "python",
   "pygments_lexer": "ipython3",
   "version": "3.9.7"
  }
 },
 "nbformat": 4,
 "nbformat_minor": 4
}
