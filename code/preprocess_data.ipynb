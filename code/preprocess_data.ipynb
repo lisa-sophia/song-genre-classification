{
 "cells": [
  {
   "cell_type": "code",
   "execution_count": 21,
   "id": "088d5b07-cfbb-453d-b0d7-4db723e913a6",
   "metadata": {},
   "outputs": [],
   "source": [
    "import pandas as pd\n",
    "import numpy as np\n",
    "import string"
   ]
  },
  {
   "cell_type": "code",
   "execution_count": 22,
   "id": "5aa1f624-f1b1-4ad8-b35d-8fb543fd2fca",
   "metadata": {},
   "outputs": [
    {
     "data": {
      "text/html": [
       "<div>\n",
       "<style scoped>\n",
       "    .dataframe tbody tr th:only-of-type {\n",
       "        vertical-align: middle;\n",
       "    }\n",
       "\n",
       "    .dataframe tbody tr th {\n",
       "        vertical-align: top;\n",
       "    }\n",
       "\n",
       "    .dataframe thead th {\n",
       "        text-align: right;\n",
       "    }\n",
       "</style>\n",
       "<table border=\"1\" class=\"dataframe\">\n",
       "  <thead>\n",
       "    <tr style=\"text-align: right;\">\n",
       "      <th></th>\n",
       "      <th>filename</th>\n",
       "      <th>artist</th>\n",
       "      <th>title</th>\n",
       "      <th>genre</th>\n",
       "      <th>lyrics</th>\n",
       "      <th>instrumental</th>\n",
       "    </tr>\n",
       "  </thead>\n",
       "  <tbody>\n",
       "    <tr>\n",
       "      <th>0</th>\n",
       "      <td>blues.00000.wav</td>\n",
       "      <td>John Lee Hooker</td>\n",
       "      <td>One Bourbon, One Scotch And One Beer</td>\n",
       "      <td>blues</td>\n",
       "      <td>One bourbon, one scotch and one beer\\nOne bour...</td>\n",
       "      <td>False</td>\n",
       "    </tr>\n",
       "    <tr>\n",
       "      <th>1</th>\n",
       "      <td>blues.00001.wav</td>\n",
       "      <td>John Lee Hooker</td>\n",
       "      <td>I'm In The Mood For Love</td>\n",
       "      <td>blues</td>\n",
       "      <td>I'm in the mood baby, I'm in the mood for love...</td>\n",
       "      <td>False</td>\n",
       "    </tr>\n",
       "    <tr>\n",
       "      <th>2</th>\n",
       "      <td>blues.00002.wav</td>\n",
       "      <td>John Lee Hooker</td>\n",
       "      <td>Think Twice Before You Go</td>\n",
       "      <td>blues</td>\n",
       "      <td>\\nThink twice before you go, baby, this will b...</td>\n",
       "      <td>False</td>\n",
       "    </tr>\n",
       "    <tr>\n",
       "      <th>3</th>\n",
       "      <td>blues.00003.wav</td>\n",
       "      <td>John Lee Hooker</td>\n",
       "      <td>I'm Bad Like Jesse James</td>\n",
       "      <td>blues</td>\n",
       "      <td>\\n...A little thing I'm going to do called \"I'...</td>\n",
       "      <td>False</td>\n",
       "    </tr>\n",
       "    <tr>\n",
       "      <th>4</th>\n",
       "      <td>blues.00004.wav</td>\n",
       "      <td>John Lee Hooker</td>\n",
       "      <td>Walkin’ The Boogie</td>\n",
       "      <td>blues</td>\n",
       "      <td>Well my mama she didn't 'low me, just to stay ...</td>\n",
       "      <td>False</td>\n",
       "    </tr>\n",
       "    <tr>\n",
       "      <th>...</th>\n",
       "      <td>...</td>\n",
       "      <td>...</td>\n",
       "      <td>...</td>\n",
       "      <td>...</td>\n",
       "      <td>...</td>\n",
       "      <td>...</td>\n",
       "    </tr>\n",
       "    <tr>\n",
       "      <th>970</th>\n",
       "      <td>rock.00095.wav</td>\n",
       "      <td>The Stone Roses</td>\n",
       "      <td>Bye Bye Bad Man</td>\n",
       "      <td>rock</td>\n",
       "      <td>\\nSoak me to my skin\\nWill you drown me in you...</td>\n",
       "      <td>False</td>\n",
       "    </tr>\n",
       "    <tr>\n",
       "      <th>971</th>\n",
       "      <td>rock.00096.wav</td>\n",
       "      <td>The Stone Roses</td>\n",
       "      <td>(Song For My) Sugar Spun Sister</td>\n",
       "      <td>rock</td>\n",
       "      <td>\\nHer hair, soft drifted snow\\nDeath white, I'...</td>\n",
       "      <td>False</td>\n",
       "    </tr>\n",
       "    <tr>\n",
       "      <th>972</th>\n",
       "      <td>rock.00097.wav</td>\n",
       "      <td>The Stone Roses</td>\n",
       "      <td>Made Of Stone</td>\n",
       "      <td>rock</td>\n",
       "      <td>\\nYour knuckles whiten on the wheel\\nThe last ...</td>\n",
       "      <td>False</td>\n",
       "    </tr>\n",
       "    <tr>\n",
       "      <th>973</th>\n",
       "      <td>rock.00098.wav</td>\n",
       "      <td>The Stone Roses</td>\n",
       "      <td>Shoot You Down</td>\n",
       "      <td>rock</td>\n",
       "      <td>You know it\\nYou show it\\nAnd the time has com...</td>\n",
       "      <td>False</td>\n",
       "    </tr>\n",
       "    <tr>\n",
       "      <th>974</th>\n",
       "      <td>rock.00099.wav</td>\n",
       "      <td>The Stone Roses</td>\n",
       "      <td>This Is The One</td>\n",
       "      <td>rock</td>\n",
       "      <td>A girl consumed by fire…\\nWe all know her desi...</td>\n",
       "      <td>False</td>\n",
       "    </tr>\n",
       "  </tbody>\n",
       "</table>\n",
       "<p>975 rows × 6 columns</p>\n",
       "</div>"
      ],
      "text/plain": [
       "            filename           artist                                 title  \\\n",
       "0    blues.00000.wav  John Lee Hooker  One Bourbon, One Scotch And One Beer   \n",
       "1    blues.00001.wav  John Lee Hooker              I'm In The Mood For Love   \n",
       "2    blues.00002.wav  John Lee Hooker             Think Twice Before You Go   \n",
       "3    blues.00003.wav  John Lee Hooker              I'm Bad Like Jesse James   \n",
       "4    blues.00004.wav  John Lee Hooker                    Walkin’ The Boogie   \n",
       "..               ...              ...                                   ...   \n",
       "970   rock.00095.wav  The Stone Roses                       Bye Bye Bad Man   \n",
       "971   rock.00096.wav  The Stone Roses       (Song For My) Sugar Spun Sister   \n",
       "972   rock.00097.wav  The Stone Roses                         Made Of Stone   \n",
       "973   rock.00098.wav  The Stone Roses                        Shoot You Down   \n",
       "974   rock.00099.wav  The Stone Roses                       This Is The One   \n",
       "\n",
       "     genre                                             lyrics  instrumental  \n",
       "0    blues  One bourbon, one scotch and one beer\\nOne bour...         False  \n",
       "1    blues  I'm in the mood baby, I'm in the mood for love...         False  \n",
       "2    blues  \\nThink twice before you go, baby, this will b...         False  \n",
       "3    blues  \\n...A little thing I'm going to do called \"I'...         False  \n",
       "4    blues  Well my mama she didn't 'low me, just to stay ...         False  \n",
       "..     ...                                                ...           ...  \n",
       "970   rock  \\nSoak me to my skin\\nWill you drown me in you...         False  \n",
       "971   rock  \\nHer hair, soft drifted snow\\nDeath white, I'...         False  \n",
       "972   rock  \\nYour knuckles whiten on the wheel\\nThe last ...         False  \n",
       "973   rock  You know it\\nYou show it\\nAnd the time has com...         False  \n",
       "974   rock  A girl consumed by fire…\\nWe all know her desi...         False  \n",
       "\n",
       "[975 rows x 6 columns]"
      ]
     },
     "execution_count": 22,
     "metadata": {},
     "output_type": "execute_result"
    }
   ],
   "source": [
    "df = pd.read_csv(r'../data/GTZAN/lyrics_dataframe.csv')\n",
    "df"
   ]
  },
  {
   "cell_type": "code",
   "execution_count": 23,
   "id": "f1bdaf19-7e86-4b8f-943b-6f6425bde170",
   "metadata": {},
   "outputs": [
    {
     "name": "stdout",
     "output_type": "stream",
     "text": [
      "{'disco', 'pop', 'jazz', 'hiphop', 'classical', 'reggae', 'rock', 'blues', 'metal', 'country'}\n"
     ]
    }
   ],
   "source": [
    "print(set(df.genre))"
   ]
  },
  {
   "cell_type": "code",
   "execution_count": 24,
   "id": "a6e62e8c-f467-4215-90e3-416405c6cc2c",
   "metadata": {},
   "outputs": [
    {
     "data": {
      "text/plain": [
       "pop          100\n",
       "rock         100\n",
       "disco         99\n",
       "hiphop        98\n",
       "country       96\n",
       "metal         96\n",
       "reggae        96\n",
       "blues         78\n",
       "jazz          18\n",
       "classical      8\n",
       "Name: genre, dtype: int64"
      ]
     },
     "execution_count": 24,
     "metadata": {},
     "output_type": "execute_result"
    }
   ],
   "source": [
    "# value counts of all data samples that have lyrics\n",
    "df[df.lyrics.notnull()].genre.value_counts()"
   ]
  },
  {
   "cell_type": "markdown",
   "id": "7da69c5c-2d75-4c00-80d1-21f4d35aebda",
   "metadata": {},
   "source": [
    "## Filter datafame"
   ]
  },
  {
   "cell_type": "markdown",
   "id": "152455fd-ec46-4c35-9e0a-623cccc92f0e",
   "metadata": {},
   "source": [
    "- Remove instrumental songs (that do not have lyrics)\n",
    "- Decided to remove e.g. the classical genre (only 8 non-instrumental songs)"
   ]
  },
  {
   "cell_type": "code",
   "execution_count": 25,
   "id": "a51b0810-3f39-4402-8fea-07d96f939c3b",
   "metadata": {},
   "outputs": [
    {
     "data": {
      "text/html": [
       "<div>\n",
       "<style scoped>\n",
       "    .dataframe tbody tr th:only-of-type {\n",
       "        vertical-align: middle;\n",
       "    }\n",
       "\n",
       "    .dataframe tbody tr th {\n",
       "        vertical-align: top;\n",
       "    }\n",
       "\n",
       "    .dataframe thead th {\n",
       "        text-align: right;\n",
       "    }\n",
       "</style>\n",
       "<table border=\"1\" class=\"dataframe\">\n",
       "  <thead>\n",
       "    <tr style=\"text-align: right;\">\n",
       "      <th></th>\n",
       "      <th>filename</th>\n",
       "      <th>artist</th>\n",
       "      <th>title</th>\n",
       "      <th>genre</th>\n",
       "      <th>lyrics</th>\n",
       "      <th>instrumental</th>\n",
       "    </tr>\n",
       "  </thead>\n",
       "  <tbody>\n",
       "    <tr>\n",
       "      <th>0</th>\n",
       "      <td>blues.00000.wav</td>\n",
       "      <td>John Lee Hooker</td>\n",
       "      <td>One Bourbon, One Scotch And One Beer</td>\n",
       "      <td>blues</td>\n",
       "      <td>One bourbon, one scotch and one beer\\nOne bour...</td>\n",
       "      <td>False</td>\n",
       "    </tr>\n",
       "    <tr>\n",
       "      <th>1</th>\n",
       "      <td>blues.00001.wav</td>\n",
       "      <td>John Lee Hooker</td>\n",
       "      <td>I'm In The Mood For Love</td>\n",
       "      <td>blues</td>\n",
       "      <td>I'm in the mood baby, I'm in the mood for love...</td>\n",
       "      <td>False</td>\n",
       "    </tr>\n",
       "    <tr>\n",
       "      <th>2</th>\n",
       "      <td>blues.00002.wav</td>\n",
       "      <td>John Lee Hooker</td>\n",
       "      <td>Think Twice Before You Go</td>\n",
       "      <td>blues</td>\n",
       "      <td>\\nThink twice before you go, baby, this will b...</td>\n",
       "      <td>False</td>\n",
       "    </tr>\n",
       "    <tr>\n",
       "      <th>3</th>\n",
       "      <td>blues.00003.wav</td>\n",
       "      <td>John Lee Hooker</td>\n",
       "      <td>I'm Bad Like Jesse James</td>\n",
       "      <td>blues</td>\n",
       "      <td>\\n...A little thing I'm going to do called \"I'...</td>\n",
       "      <td>False</td>\n",
       "    </tr>\n",
       "    <tr>\n",
       "      <th>4</th>\n",
       "      <td>blues.00004.wav</td>\n",
       "      <td>John Lee Hooker</td>\n",
       "      <td>Walkin’ The Boogie</td>\n",
       "      <td>blues</td>\n",
       "      <td>Well my mama she didn't 'low me, just to stay ...</td>\n",
       "      <td>False</td>\n",
       "    </tr>\n",
       "    <tr>\n",
       "      <th>...</th>\n",
       "      <td>...</td>\n",
       "      <td>...</td>\n",
       "      <td>...</td>\n",
       "      <td>...</td>\n",
       "      <td>...</td>\n",
       "      <td>...</td>\n",
       "    </tr>\n",
       "    <tr>\n",
       "      <th>970</th>\n",
       "      <td>rock.00095.wav</td>\n",
       "      <td>The Stone Roses</td>\n",
       "      <td>Bye Bye Bad Man</td>\n",
       "      <td>rock</td>\n",
       "      <td>\\nSoak me to my skin\\nWill you drown me in you...</td>\n",
       "      <td>False</td>\n",
       "    </tr>\n",
       "    <tr>\n",
       "      <th>971</th>\n",
       "      <td>rock.00096.wav</td>\n",
       "      <td>The Stone Roses</td>\n",
       "      <td>(Song For My) Sugar Spun Sister</td>\n",
       "      <td>rock</td>\n",
       "      <td>\\nHer hair, soft drifted snow\\nDeath white, I'...</td>\n",
       "      <td>False</td>\n",
       "    </tr>\n",
       "    <tr>\n",
       "      <th>972</th>\n",
       "      <td>rock.00097.wav</td>\n",
       "      <td>The Stone Roses</td>\n",
       "      <td>Made Of Stone</td>\n",
       "      <td>rock</td>\n",
       "      <td>\\nYour knuckles whiten on the wheel\\nThe last ...</td>\n",
       "      <td>False</td>\n",
       "    </tr>\n",
       "    <tr>\n",
       "      <th>973</th>\n",
       "      <td>rock.00098.wav</td>\n",
       "      <td>The Stone Roses</td>\n",
       "      <td>Shoot You Down</td>\n",
       "      <td>rock</td>\n",
       "      <td>You know it\\nYou show it\\nAnd the time has com...</td>\n",
       "      <td>False</td>\n",
       "    </tr>\n",
       "    <tr>\n",
       "      <th>974</th>\n",
       "      <td>rock.00099.wav</td>\n",
       "      <td>The Stone Roses</td>\n",
       "      <td>This Is The One</td>\n",
       "      <td>rock</td>\n",
       "      <td>A girl consumed by fire…\\nWe all know her desi...</td>\n",
       "      <td>False</td>\n",
       "    </tr>\n",
       "  </tbody>\n",
       "</table>\n",
       "<p>781 rows × 6 columns</p>\n",
       "</div>"
      ],
      "text/plain": [
       "            filename           artist                                 title  \\\n",
       "0    blues.00000.wav  John Lee Hooker  One Bourbon, One Scotch And One Beer   \n",
       "1    blues.00001.wav  John Lee Hooker              I'm In The Mood For Love   \n",
       "2    blues.00002.wav  John Lee Hooker             Think Twice Before You Go   \n",
       "3    blues.00003.wav  John Lee Hooker              I'm Bad Like Jesse James   \n",
       "4    blues.00004.wav  John Lee Hooker                    Walkin’ The Boogie   \n",
       "..               ...              ...                                   ...   \n",
       "970   rock.00095.wav  The Stone Roses                       Bye Bye Bad Man   \n",
       "971   rock.00096.wav  The Stone Roses       (Song For My) Sugar Spun Sister   \n",
       "972   rock.00097.wav  The Stone Roses                         Made Of Stone   \n",
       "973   rock.00098.wav  The Stone Roses                        Shoot You Down   \n",
       "974   rock.00099.wav  The Stone Roses                       This Is The One   \n",
       "\n",
       "     genre                                             lyrics  instrumental  \n",
       "0    blues  One bourbon, one scotch and one beer\\nOne bour...         False  \n",
       "1    blues  I'm in the mood baby, I'm in the mood for love...         False  \n",
       "2    blues  \\nThink twice before you go, baby, this will b...         False  \n",
       "3    blues  \\n...A little thing I'm going to do called \"I'...         False  \n",
       "4    blues  Well my mama she didn't 'low me, just to stay ...         False  \n",
       "..     ...                                                ...           ...  \n",
       "970   rock  \\nSoak me to my skin\\nWill you drown me in you...         False  \n",
       "971   rock  \\nHer hair, soft drifted snow\\nDeath white, I'...         False  \n",
       "972   rock  \\nYour knuckles whiten on the wheel\\nThe last ...         False  \n",
       "973   rock  You know it\\nYou show it\\nAnd the time has com...         False  \n",
       "974   rock  A girl consumed by fire…\\nWe all know her desi...         False  \n",
       "\n",
       "[781 rows x 6 columns]"
      ]
     },
     "execution_count": 25,
     "metadata": {},
     "output_type": "execute_result"
    }
   ],
   "source": [
    "df = df[df.lyrics.notnull()]\n",
    "df = df[df.genre != \"classical\"]\n",
    "df"
   ]
  },
  {
   "cell_type": "code",
   "execution_count": 49,
   "id": "ee1b63d7-f2e4-484e-8a8b-a03a4a3c7d21",
   "metadata": {},
   "outputs": [],
   "source": [
    "from operator import index\n",
    "\n",
    "df.to_csv('../data/GTZAN/filtered_df.csv', index=False)"
   ]
  },
  {
   "cell_type": "code",
   "execution_count": 26,
   "id": "0769fafd-2ec8-4743-99a6-a030bdd01fda",
   "metadata": {},
   "outputs": [
    {
     "data": {
      "text/plain": [
       "pop        100\n",
       "rock       100\n",
       "disco       99\n",
       "hiphop      98\n",
       "country     96\n",
       "metal       96\n",
       "reggae      96\n",
       "blues       78\n",
       "jazz        18\n",
       "Name: genre, dtype: int64"
      ]
     },
     "execution_count": 26,
     "metadata": {},
     "output_type": "execute_result"
    }
   ],
   "source": [
    "df.genre.value_counts()"
   ]
  },
  {
   "cell_type": "code",
   "execution_count": 48,
   "id": "5b5f7ed8-e1fe-4e54-bfbc-9d2705e5acb4",
   "metadata": {},
   "outputs": [
    {
     "data": {
      "image/png": "[encoded data removed]",
      "text/plain": [
       "<Figure size 576x360 with 1 Axes>"
      ]
     },
     "metadata": {},
     "output_type": "display_data"
    }
   ],
   "source": [
    "import matplotlib.pyplot as plt\n",
    "import seaborn as sns\n",
    "\n",
    "sns.set(font_scale=1.1)\n",
    "df['genre'].value_counts().plot(kind='bar', rot=0, figsize=(8,5))\n",
    "plt.xlabel(\"Genre\")\n",
    "plt.ylabel(\"Count of songs\")\n",
    "plt.title(\"Counts of songs by genre\", y=1.05)\n",
    "plt.show()"
   ]
  },
  {
   "cell_type": "code",
   "execution_count": 35,
   "id": "cc9338d9-cbfa-443c-bd15-26a7e2840b7c",
   "metadata": {},
   "outputs": [
    {
     "name": "stdout",
     "output_type": "stream",
     "text": [
      "Minimum lyrics length: 15 words\n",
      "Maximum lyrics length: 1111 words\n",
      "Average lyrics length: 285.56466069142124 words\n",
      "Median:                241.0 words\n"
     ]
    }
   ],
   "source": [
    "lyrics_lengths = df['lyrics'].str.split().str.len()\n",
    "\n",
    "print(\"Minimum lyrics length: \" + str(min(lyrics_lengths)) + \" words\")\n",
    "print(\"Maximum lyrics length: \" + str(max(lyrics_lengths)) + \" words\")\n",
    "print(\"Average lyrics length: \" + str(np.mean(lyrics_lengths)) + \" words\")\n",
    "print(\"Median:                \" + str(np.median(lyrics_lengths)) + \" words\")"
   ]
  },
  {
   "cell_type": "code",
   "execution_count": 42,
   "id": "0f247e46-a0e4-4244-b5d9-7caf7ace07ea",
   "metadata": {},
   "outputs": [
    {
     "data": {
      "image/png": "[encoded data removed]",
      "text/plain": [
       "<Figure size 648x432 with 1 Axes>"
      ]
     },
     "metadata": {},
     "output_type": "display_data"
    }
   ],
   "source": [
    "import matplotlib.pyplot as plt\n",
    "import seaborn as sns\n",
    "\n",
    "plt.figure(figsize=(9,6))\n",
    "plt.style.use('seaborn')\n",
    "plt.hist(lyrics_lengths, bins=50)\n",
    "plt.title(\"Histogram of lyrics lengths in nr. of words\")\n",
    "plt.show()"
   ]
  }
 ],
 "metadata": {
  "kernelspec": {
   "display_name": "Python [conda env:thesis] *",
   "language": "python",
   "name": "conda-env-thesis-py"
  },
  "language_info": {
   "codemirror_mode": {
    "name": "ipython",
    "version": 3
   },
   "file_extension": ".py",
   "mimetype": "text/x-python",
   "name": "python",
   "nbconvert_exporter": "python",
   "pygments_lexer": "ipython3",
   "version": "3.9.7"
  }
 },
 "nbformat": 4,
 "nbformat_minor": 5
}
